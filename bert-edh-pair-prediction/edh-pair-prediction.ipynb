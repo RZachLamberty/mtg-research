{
 "cells": [
  {
   "cell_type": "markdown",
   "metadata": {},
   "source": [
    "# EDH card pair prediction\n",
    "\n",
    "1. build train / test / dev data set\n",
    "    1. get EDH card pair recommendations from edhrec.com. these have prediction value 1\n",
    "    1. generate false pairs (prediction value 0) by randomly generating pairs\n",
    "    1. split, stratifying on card color identity, card type, rarity.\n",
    "    1. convert cards into sentences\n",
    "1. fine-tune\n",
    "    1. load pre-trained bert model on prediction task \"card a, card b --> {yes,no} was edh rec\n",
    "1. make deck predictions for one of my existing decks"
   ]
  },
  {
   "cell_type": "code",
   "execution_count": 4,
   "metadata": {},
   "outputs": [],
   "source": [
    "# !pip install datasets transformers"
   ]
  },
  {
   "cell_type": "code",
   "execution_count": 5,
   "metadata": {},
   "outputs": [],
   "source": [
    "import csv\n",
    "import itertools\n",
    "import os\n",
    "from glob import glob\n",
    "\n",
    "import datasets\n",
    "import matplotlib.pyplot as plt\n",
    "import numpy as np\n",
    "import pandas as pd\n",
    "import pyarrow as pa\n",
    "from datasets import load_dataset, load_from_disk\n",
    "from pyarrow.csv import ConvertOptions\n",
    "from sklearn.model_selection import train_test_split\n",
    "from tqdm.notebook import tqdm\n",
    "from transformers import (BertConfig, BertTokenizerFast,\n",
    "                          BertForNextSentencePrediction,\n",
    "                          DataCollatorWithPadding,\n",
    "                          PreTrainedModel, PreTrainedTokenizerFast,\n",
    "                          Trainer, TrainingArguments, )"
   ]
  },
  {
   "cell_type": "code",
   "execution_count": 6,
   "metadata": {},
   "outputs": [],
   "source": [
    "%matplotlib inline"
   ]
  },
  {
   "cell_type": "code",
   "execution_count": 7,
   "metadata": {},
   "outputs": [],
   "source": [
    "pd.set_option('display.max_columns', None)  # or 1000\n",
    "pd.set_option('display.max_rows', None)  # or 1000\n",
    "pd.set_option('display.max_colwidth', None)"
   ]
  },
  {
   "cell_type": "markdown",
   "metadata": {},
   "source": [
    "I'm getting tired of toggling cells from raw to python code, so here I'll put some flags, and then wrap entire sections in these flags"
   ]
  },
  {
   "cell_type": "code",
   "execution_count": 8,
   "metadata": {},
   "outputs": [],
   "source": [
    "CARD_SAMPLER_VERSION = 2\n",
    "\n",
    "IS_LOCAL_LAPTOP = True\n",
    "BUILD_TTV_DATASETS = True\n",
    "#USE_CARD_SAMPLER_V2 = False\n",
    "DO_FINE_TUNING = False\n",
    "USE_FINE_TUNED_MODEL = False\n",
    "CHECK_FINE_TUNED_MODEL_RESULTS = False\n",
    "MAKE_DECK_RECOMMENDATION_DATASETS = False\n",
    "DO_DECK_RECOMMENDATIONS = False\n",
    "CHECK_DECK_RECOMMENDATIONS = False"
   ]
  },
  {
   "cell_type": "code",
   "execution_count": 9,
   "metadata": {},
   "outputs": [],
   "source": [
    "USE_CARD_SAMPLER_V1 = CARD_SAMPLER_VERSION == 1\n",
    "USE_CARD_SAMPLER_V2 = CARD_SAMPLER_VERSION == 2\n",
    "USE_CARD_SAMPLER_V3 = CARD_SAMPLER_VERSION == 3"
   ]
  },
  {
   "cell_type": "code",
   "execution_count": 10,
   "metadata": {},
   "outputs": [],
   "source": [
    "if BUILD_TTV_DATASETS:\n",
    "    assert IS_LOCAL_LAPTOP\n",
    "\n",
    "if CHECK_FINE_TUNED_MODEL_RESULTS:\n",
    "    assert USE_FINE_TUNED_MODEL\n",
    "\n",
    "if MAKE_DECK_RECOMMENDATION_DATASETS:\n",
    "    assert IS_LOCAL_LAPTOP\n",
    "\n",
    "if DO_DECK_RECOMMENDATIONS:\n",
    "    assert USE_FINE_TUNED_MODEL\n",
    "\n",
    "if CHECK_DECK_RECOMMENDATIONS:\n",
    "    assert USE_FINE_TUNED_MODEL\n",
    "    assert IS_LOCAL_LAPTOP"
   ]
  },
  {
   "cell_type": "markdown",
   "metadata": {},
   "source": [
    "## build train / test / dev data set"
   ]
  },
  {
   "cell_type": "markdown",
   "metadata": {},
   "source": [
    "### get EDH card pair recommendations from edhrec.com\n",
    "\n",
    "these will have prediction value 1"
   ]
  },
  {
   "cell_type": "code",
   "execution_count": 12,
   "metadata": {},
   "outputs": [
    {
     "data": {
      "text/html": [
       "<div>\n",
       "<style scoped>\n",
       "    .dataframe tbody tr th:only-of-type {\n",
       "        vertical-align: middle;\n",
       "    }\n",
       "\n",
       "    .dataframe tbody tr th {\n",
       "        vertical-align: top;\n",
       "    }\n",
       "\n",
       "    .dataframe thead th {\n",
       "        text-align: right;\n",
       "    }\n",
       "</style>\n",
       "<table border=\"1\" class=\"dataframe\">\n",
       "  <thead>\n",
       "    <tr style=\"text-align: right;\">\n",
       "      <th></th>\n",
       "      <th>name</th>\n",
       "      <th>commander</th>\n",
       "    </tr>\n",
       "  </thead>\n",
       "  <tbody>\n",
       "    <tr>\n",
       "      <th>0</th>\n",
       "      <td>forsaken monument</td>\n",
       "      <td>kozilek, the great distortion</td>\n",
       "    </tr>\n",
       "    <tr>\n",
       "      <th>1</th>\n",
       "      <td>war room</td>\n",
       "      <td>kozilek, the great distortion</td>\n",
       "    </tr>\n",
       "    <tr>\n",
       "      <th>2</th>\n",
       "      <td>commander's plate</td>\n",
       "      <td>kozilek, the great distortion</td>\n",
       "    </tr>\n",
       "    <tr>\n",
       "      <th>3</th>\n",
       "      <td>guildless commons</td>\n",
       "      <td>kozilek, the great distortion</td>\n",
       "    </tr>\n",
       "    <tr>\n",
       "      <th>4</th>\n",
       "      <td>skyclave relic</td>\n",
       "      <td>kozilek, the great distortion</td>\n",
       "    </tr>\n",
       "  </tbody>\n",
       "</table>\n",
       "</div>"
      ],
      "text/plain": [
       "                name                      commander\n",
       "0  forsaken monument  kozilek, the great distortion\n",
       "1           war room  kozilek, the great distortion\n",
       "2  commander's plate  kozilek, the great distortion\n",
       "3  guildless commons  kozilek, the great distortion\n",
       "4     skyclave relic  kozilek, the great distortion"
      ]
     },
     "execution_count": 12,
     "metadata": {},
     "output_type": "execute_result"
    }
   ],
   "source": [
    "if IS_LOCAL_LAPTOP:\n",
    "    import mtg.cards\n",
    "    import mtg.extract.edhrec\n",
    "\n",
    "    edhrec_cards = (mtg.extract.edhrec.get_commanders_and_cards()\n",
    "                    [['name', 'commander']])\n",
    "    edhrec_cards.name = edhrec_cards.name.str.lower()\n",
    "    edhrec_cards.commander = edhrec_cards.commander.str.lower()\n",
    "\n",
    "edhrec_cards.head() if IS_LOCAL_LAPTOP else None"
   ]
  },
  {
   "cell_type": "code",
   "execution_count": 13,
   "metadata": {},
   "outputs": [
    {
     "data": {
      "image/png": "[encoded data removed]",
      "text/plain": [
       "<Figure size 432x288 with 1 Axes>"
      ]
     },
     "metadata": {
      "needs_background": "light"
     },
     "output_type": "display_data"
    }
   ],
   "source": [
    "if IS_LOCAL_LAPTOP:\n",
    "    # most common cards\n",
    "    edhrec_cards.name.value_counts().plot.hist()"
   ]
  },
  {
   "cell_type": "code",
   "execution_count": 14,
   "metadata": {},
   "outputs": [
    {
     "data": {
      "text/plain": [
       "sol ring                   962\n",
       "swiftfoot boots            846\n",
       "lightning greaves          840\n",
       "temple of the false god    835\n",
       "reliquary tower            829\n",
       "Name: name, dtype: int64"
      ]
     },
     "execution_count": 14,
     "metadata": {},
     "output_type": "execute_result"
    }
   ],
   "source": [
    "if IS_LOCAL_LAPTOP:\n",
    "    # most common cards\n",
    "    vc = edhrec_cards.name.value_counts()\n",
    "vc.head() if IS_LOCAL_LAPTOP else None"
   ]
  },
  {
   "cell_type": "code",
   "execution_count": 15,
   "metadata": {},
   "outputs": [
    {
     "data": {
      "image/png": "[encoded data removed]",
      "text/plain": [
       "<Figure size 432x288 with 1 Axes>"
      ]
     },
     "metadata": {
      "needs_background": "light"
     },
     "output_type": "display_data"
    }
   ],
   "source": [
    "if IS_LOCAL_LAPTOP:\n",
    "    # most cards appear in only 1 commander recs, up to 500 cards appear\n",
    "    # in 10 commander recs\n",
    "    vc[vc <= 10].plot.hist()"
   ]
  },
  {
   "cell_type": "markdown",
   "metadata": {},
   "source": [
    "if we just ran with this, how many total pairs could we generate this way? basically, for every card in deck X, every other card is a valid pair. that's:"
   ]
  },
  {
   "cell_type": "code",
   "execution_count": 16,
   "metadata": {},
   "outputs": [
    {
     "name": "stdout",
     "output_type": "stream",
     "text": [
      "32,256,577\n"
     ]
    }
   ],
   "source": [
    "if IS_LOCAL_LAPTOP:\n",
    "    z = edhrec_cards.commander.value_counts()\n",
    "    print(f\"{int((z * (z - 1) / 2).sum()):,}\")"
   ]
  },
  {
   "cell_type": "markdown",
   "metadata": {},
   "source": [
    "at first I was going to say no way, buuuuuut it's actually not terrible... we want big data, after all\n",
    "\n",
    "we would need to generate about 32 mil negative labels if that were the dataset we were interested in"
   ]
  },
  {
   "cell_type": "markdown",
   "metadata": {},
   "source": [
    "### get all cards from mtgjson\n",
    "\n",
    "to generate false pairs we will randomly select from all cards. about 65% of all MTG cards are referenced on edhrec, but the rest are also, presumably, good choices for 0 labels"
   ]
  },
  {
   "cell_type": "code",
   "execution_count": 17,
   "metadata": {},
   "outputs": [],
   "source": [
    "if IS_LOCAL_LAPTOP:\n",
    "    cards = (mtg.cards.cards_df()\n",
    "             .sort_values(by=['name', 'multiverseId'], ascending=False)\n",
    "             .groupby('name')\n",
    "             .first())\n",
    "    \n",
    "    cards.index = cards.index.str.lower()"
   ]
  },
  {
   "cell_type": "code",
   "execution_count": 20,
   "metadata": {},
   "outputs": [
    {
     "data": {
      "text/plain": [
       "Index(['\"ach! hans, run!\"', '\"rumors of my death . . .\"',\n",
       "       '1996 world champion', 'a display of my dark power', 'a good thing',\n",
       "       'a reckoning approaches', 'awol', 'abandon hope', 'abandon reason',\n",
       "       'abandoned outpost',\n",
       "       ...\n",
       "       'zuran enchanter', 'zuran orb', 'zuran spellcaster',\n",
       "       'zurgo bellstriker', 'zurgo helmsmasher', 'zurzoth, chaos rider',\n",
       "       'zyym, mesmeric lord', 'zzzyxas's abyss', '_____', 'capital offense'],\n",
       "      dtype='object', name='name', length=21814)"
      ]
     },
     "execution_count": 20,
     "metadata": {},
     "output_type": "execute_result"
    }
   ],
   "source": [
    "cards.index.str.lower()"
   ]
  },
  {
   "cell_type": "code",
   "execution_count": 19,
   "metadata": {},
   "outputs": [
    {
     "data": {
      "text/html": [
       "<div>\n",
       "<style scoped>\n",
       "    .dataframe tbody tr th:only-of-type {\n",
       "        vertical-align: middle;\n",
       "    }\n",
       "\n",
       "    .dataframe tbody tr th {\n",
       "        vertical-align: top;\n",
       "    }\n",
       "\n",
       "    .dataframe thead th {\n",
       "        text-align: right;\n",
       "    }\n",
       "</style>\n",
       "<table border=\"1\" class=\"dataframe\">\n",
       "  <thead>\n",
       "    <tr style=\"text-align: right;\">\n",
       "      <th></th>\n",
       "      <th>artist</th>\n",
       "      <th>borderColor</th>\n",
       "      <th>colorIdentity</th>\n",
       "      <th>colors</th>\n",
       "      <th>convertedManaCost</th>\n",
       "      <th>edhrecRank</th>\n",
       "      <th>foreignData</th>\n",
       "      <th>frameVersion</th>\n",
       "      <th>hasFoil</th>\n",
       "      <th>hasNonFoil</th>\n",
       "      <th>isMtgo</th>\n",
       "      <th>isPaper</th>\n",
       "      <th>isReprint</th>\n",
       "      <th>layout</th>\n",
       "      <th>legalities</th>\n",
       "      <th>manaCost</th>\n",
       "      <th>mcmId</th>\n",
       "      <th>mcmMetaId</th>\n",
       "      <th>mtgoFoilId</th>\n",
       "      <th>mtgoId</th>\n",
       "      <th>multiverseId</th>\n",
       "      <th>number</th>\n",
       "      <th>originalText</th>\n",
       "      <th>originalType</th>\n",
       "      <th>prices</th>\n",
       "      <th>printings</th>\n",
       "      <th>purchaseUrls</th>\n",
       "      <th>rarity</th>\n",
       "      <th>rulings</th>\n",
       "      <th>scryfallId</th>\n",
       "      <th>scryfallIllustrationId</th>\n",
       "      <th>scryfallOracleId</th>\n",
       "      <th>subtypes</th>\n",
       "      <th>supertypes</th>\n",
       "      <th>tcgplayerProductId</th>\n",
       "      <th>text</th>\n",
       "      <th>type</th>\n",
       "      <th>types</th>\n",
       "      <th>uuid</th>\n",
       "      <th>setname</th>\n",
       "      <th>flavorText</th>\n",
       "      <th>power</th>\n",
       "      <th>toughness</th>\n",
       "      <th>variations</th>\n",
       "      <th>isAlternative</th>\n",
       "      <th>leadershipSkills</th>\n",
       "      <th>names</th>\n",
       "      <th>hasNoDeckLimit</th>\n",
       "      <th>isReserved</th>\n",
       "      <th>hasContentWarning</th>\n",
       "      <th>frameEffect</th>\n",
       "      <th>frameEffects</th>\n",
       "      <th>isPromo</th>\n",
       "      <th>isStarter</th>\n",
       "      <th>isBuyABox</th>\n",
       "      <th>isFullArt</th>\n",
       "      <th>loyalty</th>\n",
       "      <th>asciiName</th>\n",
       "      <th>watermark</th>\n",
       "      <th>colorIndicator</th>\n",
       "      <th>isStorySpotlight</th>\n",
       "      <th>isArena</th>\n",
       "      <th>isOnlineOnly</th>\n",
       "      <th>mtgArenaId</th>\n",
       "      <th>faceConvertedManaCost</th>\n",
       "      <th>otherFaceIds</th>\n",
       "      <th>side</th>\n",
       "      <th>hand</th>\n",
       "      <th>life</th>\n",
       "      <th>duelDeck</th>\n",
       "      <th>isTimeshifted</th>\n",
       "      <th>isDateStamped</th>\n",
       "      <th>flavorName</th>\n",
       "      <th>isOversized</th>\n",
       "      <th>isTextless</th>\n",
       "      <th>isAstral</th>\n",
       "      <th>isSega</th>\n",
       "    </tr>\n",
       "    <tr>\n",
       "      <th>name</th>\n",
       "      <th></th>\n",
       "      <th></th>\n",
       "      <th></th>\n",
       "      <th></th>\n",
       "      <th></th>\n",
       "      <th></th>\n",
       "      <th></th>\n",
       "      <th></th>\n",
       "      <th></th>\n",
       "      <th></th>\n",
       "      <th></th>\n",
       "      <th></th>\n",
       "      <th></th>\n",
       "      <th></th>\n",
       "      <th></th>\n",
       "      <th></th>\n",
       "      <th></th>\n",
       "      <th></th>\n",
       "      <th></th>\n",
       "      <th></th>\n",
       "      <th></th>\n",
       "      <th></th>\n",
       "      <th></th>\n",
       "      <th></th>\n",
       "      <th></th>\n",
       "      <th></th>\n",
       "      <th></th>\n",
       "      <th></th>\n",
       "      <th></th>\n",
       "      <th></th>\n",
       "      <th></th>\n",
       "      <th></th>\n",
       "      <th></th>\n",
       "      <th></th>\n",
       "      <th></th>\n",
       "      <th></th>\n",
       "      <th></th>\n",
       "      <th></th>\n",
       "      <th></th>\n",
       "      <th></th>\n",
       "      <th></th>\n",
       "      <th></th>\n",
       "      <th></th>\n",
       "      <th></th>\n",
       "      <th></th>\n",
       "      <th></th>\n",
       "      <th></th>\n",
       "      <th></th>\n",
       "      <th></th>\n",
       "      <th></th>\n",
       "      <th></th>\n",
       "      <th></th>\n",
       "      <th></th>\n",
       "      <th></th>\n",
       "      <th></th>\n",
       "      <th></th>\n",
       "      <th></th>\n",
       "      <th></th>\n",
       "      <th></th>\n",
       "      <th></th>\n",
       "      <th></th>\n",
       "      <th></th>\n",
       "      <th></th>\n",
       "      <th></th>\n",
       "      <th></th>\n",
       "      <th></th>\n",
       "      <th></th>\n",
       "      <th></th>\n",
       "      <th></th>\n",
       "      <th></th>\n",
       "      <th></th>\n",
       "      <th></th>\n",
       "      <th></th>\n",
       "      <th></th>\n",
       "      <th></th>\n",
       "      <th></th>\n",
       "      <th></th>\n",
       "    </tr>\n",
       "  </thead>\n",
       "  <tbody>\n",
       "    <tr>\n",
       "      <th>\"Ach! Hans, Run!\"</th>\n",
       "      <td>Quinton Hoover</td>\n",
       "      <td>silver</td>\n",
       "      <td>[G, R]</td>\n",
       "      <td>[G, R]</td>\n",
       "      <td>6.0</td>\n",
       "      <td>NaN</td>\n",
       "      <td>[]</td>\n",
       "      <td>2003</td>\n",
       "      <td>True</td>\n",
       "      <td>True</td>\n",
       "      <td>None</td>\n",
       "      <td>True</td>\n",
       "      <td>None</td>\n",
       "      <td>normal</td>\n",
       "      <td>{}</td>\n",
       "      <td>{2}{R}{R}{G}{G}</td>\n",
       "      <td>14879.0</td>\n",
       "      <td>8868.0</td>\n",
       "      <td>NaN</td>\n",
       "      <td>NaN</td>\n",
       "      <td>73935.0</td>\n",
       "      <td>116</td>\n",
       "      <td>At the beginning of your upkeep, you may say \"Ach Hans, run It's the . . .\" and name a creature card. If you do, search your library for the named card, put it into play, then shuffle your library. That creature has haste. Remove it from the game at end of turn.</td>\n",
       "      <td>Enchantment</td>\n",
       "      <td>{'mtgo': {}, 'mtgoFoil': {}, 'paper': {'2020-11-06': 3.54}, 'paperFoil': {'2020-11-06': 14.73}}</td>\n",
       "      <td>[UNH]</td>\n",
       "      <td>{'cardmarket': 'https://mtgjson.com/links/6227e6c981cce27c', 'tcgplayer': 'https://mtgjson.com/links/85b366724beadefd'}</td>\n",
       "      <td>rare</td>\n",
       "      <td>[]</td>\n",
       "      <td>84f2c8f5-8e11-4639-b7de-00e4a2cbabee</td>\n",
       "      <td>be49af2a-e561-49d6-b21f-4f3bf451f11b</td>\n",
       "      <td>a2c5ee76-6084-413c-bb70-45490d818374</td>\n",
       "      <td>[]</td>\n",
       "      <td>[]</td>\n",
       "      <td>37816.0</td>\n",
       "      <td>At the beginning of your upkeep, you may say \"Ach! Hans, run! It's the . . .\" and the name of a creature card. If you do, search your library for a card with that name, put it onto the battlefield, then shuffle your library. That creature gains haste. Exile it at the beginning of the next end step.</td>\n",
       "      <td>Enchantment</td>\n",
       "      <td>[Enchantment]</td>\n",
       "      <td>8f9a35d5-a3a2-556b-88da-6686da3aaa34</td>\n",
       "      <td>UNH</td>\n",
       "      <td>None</td>\n",
       "      <td>None</td>\n",
       "      <td>None</td>\n",
       "      <td>None</td>\n",
       "      <td>None</td>\n",
       "      <td>None</td>\n",
       "      <td>None</td>\n",
       "      <td>None</td>\n",
       "      <td>None</td>\n",
       "      <td>None</td>\n",
       "      <td>None</td>\n",
       "      <td>None</td>\n",
       "      <td>None</td>\n",
       "      <td>None</td>\n",
       "      <td>None</td>\n",
       "      <td>None</td>\n",
       "      <td>None</td>\n",
       "      <td>None</td>\n",
       "      <td>None</td>\n",
       "      <td>None</td>\n",
       "      <td>None</td>\n",
       "      <td>None</td>\n",
       "      <td>None</td>\n",
       "      <td>NaN</td>\n",
       "      <td>NaN</td>\n",
       "      <td>None</td>\n",
       "      <td>None</td>\n",
       "      <td>None</td>\n",
       "      <td>None</td>\n",
       "      <td>None</td>\n",
       "      <td>None</td>\n",
       "      <td>None</td>\n",
       "      <td>None</td>\n",
       "      <td>None</td>\n",
       "      <td>None</td>\n",
       "      <td>None</td>\n",
       "      <td>None</td>\n",
       "    </tr>\n",
       "    <tr>\n",
       "      <th>\"Rumors of My Death . . .\"</th>\n",
       "      <td>Alex Konstad</td>\n",
       "      <td>silver</td>\n",
       "      <td>[B]</td>\n",
       "      <td>[B]</td>\n",
       "      <td>3.0</td>\n",
       "      <td>NaN</td>\n",
       "      <td>[]</td>\n",
       "      <td>2015</td>\n",
       "      <td>True</td>\n",
       "      <td>True</td>\n",
       "      <td>None</td>\n",
       "      <td>True</td>\n",
       "      <td>None</td>\n",
       "      <td>normal</td>\n",
       "      <td>{}</td>\n",
       "      <td>{2}{B}</td>\n",
       "      <td>313985.0</td>\n",
       "      <td>235385.0</td>\n",
       "      <td>NaN</td>\n",
       "      <td>NaN</td>\n",
       "      <td>439454.0</td>\n",
       "      <td>65</td>\n",
       "      <td>{3}{B}, Exile a permanent you control with a League of Dastardly Doom watermark: Return a permanent card with a League of Dastardly Doom watermark from your graveyard to the battlefield.</td>\n",
       "      <td>Enchantment</td>\n",
       "      <td>{'mtgo': {}, 'mtgoFoil': {}, 'paper': {'2020-11-06': 0.1}, 'paperFoil': {'2020-11-06': 0.52}}</td>\n",
       "      <td>[UST]</td>\n",
       "      <td>{'cardmarket': 'https://mtgjson.com/links/371e720c2fd4986f', 'tcgplayer': 'https://mtgjson.com/links/f4da472f5769fc77'}</td>\n",
       "      <td>uncommon</td>\n",
       "      <td>[]</td>\n",
       "      <td>cb3587b9-e727-4f37-b4d6-1baa7316262f</td>\n",
       "      <td>f04b83e3-012a-473f-b2b1-876741c0645a</td>\n",
       "      <td>38bcba8b-2838-4ac8-9976-f9ccaa94fdba</td>\n",
       "      <td>[]</td>\n",
       "      <td>[]</td>\n",
       "      <td>153145.0</td>\n",
       "      <td>{3}{B}, Exile a permanent you control with a League of Dastardly Doom watermark: Return a permanent card with a League of Dastardly Doom watermark from your graveyard to the battlefield.</td>\n",
       "      <td>Enchantment</td>\n",
       "      <td>[Enchantment]</td>\n",
       "      <td>201f7042-dda1-53d6-a0bd-8225ba73f34a</td>\n",
       "      <td>UST</td>\n",
       "      <td>By the fourth funeral, the mooks had gotten pretty good at them.</td>\n",
       "      <td>None</td>\n",
       "      <td>None</td>\n",
       "      <td>None</td>\n",
       "      <td>None</td>\n",
       "      <td>None</td>\n",
       "      <td>None</td>\n",
       "      <td>None</td>\n",
       "      <td>None</td>\n",
       "      <td>None</td>\n",
       "      <td>None</td>\n",
       "      <td>None</td>\n",
       "      <td>None</td>\n",
       "      <td>None</td>\n",
       "      <td>None</td>\n",
       "      <td>None</td>\n",
       "      <td>None</td>\n",
       "      <td>None</td>\n",
       "      <td>leagueofdastardlydoom</td>\n",
       "      <td>None</td>\n",
       "      <td>None</td>\n",
       "      <td>None</td>\n",
       "      <td>None</td>\n",
       "      <td>NaN</td>\n",
       "      <td>NaN</td>\n",
       "      <td>None</td>\n",
       "      <td>None</td>\n",
       "      <td>None</td>\n",
       "      <td>None</td>\n",
       "      <td>None</td>\n",
       "      <td>None</td>\n",
       "      <td>None</td>\n",
       "      <td>None</td>\n",
       "      <td>None</td>\n",
       "      <td>None</td>\n",
       "      <td>None</td>\n",
       "      <td>None</td>\n",
       "    </tr>\n",
       "    <tr>\n",
       "      <th>1996 World Champion</th>\n",
       "      <td>Christopher Rush</td>\n",
       "      <td>black</td>\n",
       "      <td>[B, G, R, U, W]</td>\n",
       "      <td>[B, G, R, U, W]</td>\n",
       "      <td>5.0</td>\n",
       "      <td>NaN</td>\n",
       "      <td>[]</td>\n",
       "      <td>1993</td>\n",
       "      <td>False</td>\n",
       "      <td>True</td>\n",
       "      <td>None</td>\n",
       "      <td>None</td>\n",
       "      <td>None</td>\n",
       "      <td>normal</td>\n",
       "      <td>{}</td>\n",
       "      <td>{W}{U}{B}{R}{G}</td>\n",
       "      <td>NaN</td>\n",
       "      <td>NaN</td>\n",
       "      <td>NaN</td>\n",
       "      <td>NaN</td>\n",
       "      <td>NaN</td>\n",
       "      <td>1</td>\n",
       "      <td>None</td>\n",
       "      <td>None</td>\n",
       "      <td>{'mtgo': {}, 'mtgoFoil': {}, 'paper': {}, 'paperFoil': {}}</td>\n",
       "      <td>[PCEL]</td>\n",
       "      <td>None</td>\n",
       "      <td>rare</td>\n",
       "      <td>[]</td>\n",
       "      <td>d3f10f07-7cfe-4a6f-8de6-373e367a731b</td>\n",
       "      <td>f12f705b-c031-4eee-814c-089570bf7791</td>\n",
       "      <td>39302443-4614-4e62-832a-b74eb2136bc7</td>\n",
       "      <td>[Legend]</td>\n",
       "      <td>[]</td>\n",
       "      <td>21655.0</td>\n",
       "      <td>Cannot be the target of spells or effects. World Champion has power and toughness equal to the life total of target opponent.\\n{0}: Discard your hand to search your library for 1996 World Champion and reveal it to all players. Shuffle your library and put 1996 World Champion on top of it. Use this ability only at the beginning of your upkeep, and only if 1996 World Champion is in your library.</td>\n",
       "      <td>Summon — Legend</td>\n",
       "      <td>[Summon]</td>\n",
       "      <td>6b0e48c0-441d-5a62-a558-3c99473e4387</td>\n",
       "      <td>PCEL</td>\n",
       "      <td>It takes great sacrifice to make it to the top.</td>\n",
       "      <td>None</td>\n",
       "      <td>None</td>\n",
       "      <td>None</td>\n",
       "      <td>None</td>\n",
       "      <td>None</td>\n",
       "      <td>None</td>\n",
       "      <td>None</td>\n",
       "      <td>None</td>\n",
       "      <td>None</td>\n",
       "      <td>None</td>\n",
       "      <td>None</td>\n",
       "      <td>None</td>\n",
       "      <td>True</td>\n",
       "      <td>None</td>\n",
       "      <td>None</td>\n",
       "      <td>None</td>\n",
       "      <td>None</td>\n",
       "      <td>None</td>\n",
       "      <td>None</td>\n",
       "      <td>None</td>\n",
       "      <td>None</td>\n",
       "      <td>None</td>\n",
       "      <td>NaN</td>\n",
       "      <td>NaN</td>\n",
       "      <td>None</td>\n",
       "      <td>None</td>\n",
       "      <td>None</td>\n",
       "      <td>None</td>\n",
       "      <td>None</td>\n",
       "      <td>None</td>\n",
       "      <td>None</td>\n",
       "      <td>None</td>\n",
       "      <td>None</td>\n",
       "      <td>None</td>\n",
       "      <td>None</td>\n",
       "      <td>None</td>\n",
       "    </tr>\n",
       "    <tr>\n",
       "      <th>A Display of My Dark Power</th>\n",
       "      <td>Jim Nelson</td>\n",
       "      <td>black</td>\n",
       "      <td>[]</td>\n",
       "      <td>[]</td>\n",
       "      <td>0.0</td>\n",
       "      <td>NaN</td>\n",
       "      <td>[]</td>\n",
       "      <td>2003</td>\n",
       "      <td>False</td>\n",
       "      <td>True</td>\n",
       "      <td>None</td>\n",
       "      <td>True</td>\n",
       "      <td>None</td>\n",
       "      <td>scheme</td>\n",
       "      <td>{}</td>\n",
       "      <td>None</td>\n",
       "      <td>NaN</td>\n",
       "      <td>NaN</td>\n",
       "      <td>NaN</td>\n",
       "      <td>NaN</td>\n",
       "      <td>212578.0</td>\n",
       "      <td>8★</td>\n",
       "      <td>When you set this scheme in motion, until your next turn, whenever a player taps a land for mana, that player adds one mana to his or her mana pool of any type that land produced.</td>\n",
       "      <td>Scheme</td>\n",
       "      <td>{'mtgo': {}, 'mtgoFoil': {}, 'paper': {'2020-11-06': 4.34}, 'paperFoil': {}}</td>\n",
       "      <td>[OARC]</td>\n",
       "      <td>None</td>\n",
       "      <td>common</td>\n",
       "      <td>[{'date': '2010-06-15', 'text': 'The ability affects all players, not just you.'}, {'date': '2010-06-15', 'text': 'The effect doesn’t wear off until just before your next untap step (even if an effect will cause that untap step to be skipped).'}, {'date': '2010-06-15', 'text': 'The types of mana are white, blue, black, red, green, and colorless.'}, {'date': '2010-06-15', 'text': 'If a land produces more than one type of mana at a single time (as Boros Garrison does, for example), the land’s controller chooses which one of those types of mana is produced by the delayed triggered ability.'}, {'date': '2010-06-15', 'text': 'If a land is tapped for mana but doesn’t produce any (for example, if you tap Gaea’s Cradle for mana while you control no creatures), the delayed triggered ability won’t trigger.'}]</td>\n",
       "      <td>c5287e77-890d-41bd-acc6-7a8f1866426d</td>\n",
       "      <td>3749f9f1-d65e-4365-9287-c2fdf8a5428d</td>\n",
       "      <td>156107a0-1657-4d04-904c-f8d19df32ff8</td>\n",
       "      <td>[]</td>\n",
       "      <td>[]</td>\n",
       "      <td>37086.0</td>\n",
       "      <td>When you set this scheme in motion, until your next turn, whenever a player taps a land for mana, that player adds one mana of any type that land produced.</td>\n",
       "      <td>Scheme</td>\n",
       "      <td>[Scheme]</td>\n",
       "      <td>5ccf5ac6-84e6-5ae8-a801-6e9cac2f1996</td>\n",
       "      <td>OARC</td>\n",
       "      <td>\"What would you say is my greatest attribute? Is it my gluttonous lust for power?\"</td>\n",
       "      <td>None</td>\n",
       "      <td>None</td>\n",
       "      <td>None</td>\n",
       "      <td>None</td>\n",
       "      <td>None</td>\n",
       "      <td>None</td>\n",
       "      <td>None</td>\n",
       "      <td>None</td>\n",
       "      <td>None</td>\n",
       "      <td>None</td>\n",
       "      <td>None</td>\n",
       "      <td>None</td>\n",
       "      <td>True</td>\n",
       "      <td>None</td>\n",
       "      <td>None</td>\n",
       "      <td>None</td>\n",
       "      <td>None</td>\n",
       "      <td>None</td>\n",
       "      <td>None</td>\n",
       "      <td>None</td>\n",
       "      <td>None</td>\n",
       "      <td>None</td>\n",
       "      <td>NaN</td>\n",
       "      <td>NaN</td>\n",
       "      <td>None</td>\n",
       "      <td>None</td>\n",
       "      <td>None</td>\n",
       "      <td>None</td>\n",
       "      <td>None</td>\n",
       "      <td>None</td>\n",
       "      <td>None</td>\n",
       "      <td>None</td>\n",
       "      <td>True</td>\n",
       "      <td>None</td>\n",
       "      <td>None</td>\n",
       "      <td>None</td>\n",
       "    </tr>\n",
       "    <tr>\n",
       "      <th>A Good Thing</th>\n",
       "      <td>Yoni Skolnik</td>\n",
       "      <td>black</td>\n",
       "      <td>[B, W]</td>\n",
       "      <td>[B, W]</td>\n",
       "      <td>6.0</td>\n",
       "      <td>NaN</td>\n",
       "      <td>[]</td>\n",
       "      <td>2015</td>\n",
       "      <td>False</td>\n",
       "      <td>True</td>\n",
       "      <td>None</td>\n",
       "      <td>True</td>\n",
       "      <td>None</td>\n",
       "      <td>normal</td>\n",
       "      <td>{}</td>\n",
       "      <td>{4}{W}{B}</td>\n",
       "      <td>NaN</td>\n",
       "      <td>NaN</td>\n",
       "      <td>NaN</td>\n",
       "      <td>NaN</td>\n",
       "      <td>476216.0</td>\n",
       "      <td>86</td>\n",
       "      <td>Spells and abilities you control can't destroy, exile, target, or cause you to sacrifice CARDNAME.\\nAt the beginning of your upkeep, double your life total. Then, if you have 1,000 or more life, you lose the game.</td>\n",
       "      <td>Enchantment</td>\n",
       "      <td>{'mtgo': {}, 'mtgoFoil': {}, 'paper': {'2020-11-06': 3.93}, 'paperFoil': {}}</td>\n",
       "      <td>[CMB1]</td>\n",
       "      <td>{'tcgplayer': 'https://mtgjson.com/links/f4acf1875df2e203'}</td>\n",
       "      <td>rare</td>\n",
       "      <td>[{'date': '2019-11-12', 'text': 'To double a player’s life total, that player gains as much life as needed so that their life total is twice the number it was before. If their life total was negative, that player loses as much life as needed so that their life total is twice as far below 0 as it was before. Other effects interact with this life gain or loss accordingly.'}]</td>\n",
       "      <td>e84a1c2f-482a-42f9-87e9-35a381cad403</td>\n",
       "      <td>985e6a4f-e417-44e8-8f4c-1bfa41b44f74</td>\n",
       "      <td>9cfdc604-71de-44e4-8ba7-2a3ee03aab68</td>\n",
       "      <td>[]</td>\n",
       "      <td>[]</td>\n",
       "      <td>202663.0</td>\n",
       "      <td>Spells and abilities you control can't destroy, exile, target, or cause you to sacrifice A Good Thing.\\nAt the beginning of your upkeep, double your life total. Then, if you have 1,000 or more life, you lose the game.</td>\n",
       "      <td>Enchantment</td>\n",
       "      <td>[Enchantment]</td>\n",
       "      <td>5e77de09-7521-54b6-b516-b7ed7740f7fe</td>\n",
       "      <td>CMB1</td>\n",
       "      <td>None</td>\n",
       "      <td>None</td>\n",
       "      <td>None</td>\n",
       "      <td>None</td>\n",
       "      <td>None</td>\n",
       "      <td>None</td>\n",
       "      <td>None</td>\n",
       "      <td>None</td>\n",
       "      <td>None</td>\n",
       "      <td>None</td>\n",
       "      <td>None</td>\n",
       "      <td>None</td>\n",
       "      <td>None</td>\n",
       "      <td>True</td>\n",
       "      <td>None</td>\n",
       "      <td>None</td>\n",
       "      <td>None</td>\n",
       "      <td>None</td>\n",
       "      <td>None</td>\n",
       "      <td>None</td>\n",
       "      <td>None</td>\n",
       "      <td>None</td>\n",
       "      <td>None</td>\n",
       "      <td>NaN</td>\n",
       "      <td>NaN</td>\n",
       "      <td>None</td>\n",
       "      <td>None</td>\n",
       "      <td>None</td>\n",
       "      <td>None</td>\n",
       "      <td>None</td>\n",
       "      <td>None</td>\n",
       "      <td>None</td>\n",
       "      <td>None</td>\n",
       "      <td>None</td>\n",
       "      <td>None</td>\n",
       "      <td>None</td>\n",
       "      <td>None</td>\n",
       "    </tr>\n",
       "  </tbody>\n",
       "</table>\n",
       "</div>"
      ],
      "text/plain": [
       "                                      artist borderColor    colorIdentity  \\\n",
       "name                                                                        \n",
       "\"Ach! Hans, Run!\"             Quinton Hoover      silver           [G, R]   \n",
       "\"Rumors of My Death . . .\"      Alex Konstad      silver              [B]   \n",
       "1996 World Champion         Christopher Rush       black  [B, G, R, U, W]   \n",
       "A Display of My Dark Power        Jim Nelson       black               []   \n",
       "A Good Thing                    Yoni Skolnik       black           [B, W]   \n",
       "\n",
       "                                     colors  convertedManaCost  edhrecRank  \\\n",
       "name                                                                         \n",
       "\"Ach! Hans, Run!\"                    [G, R]                6.0         NaN   \n",
       "\"Rumors of My Death . . .\"              [B]                3.0         NaN   \n",
       "1996 World Champion         [B, G, R, U, W]                5.0         NaN   \n",
       "A Display of My Dark Power               []                0.0         NaN   \n",
       "A Good Thing                         [B, W]                6.0         NaN   \n",
       "\n",
       "                           foreignData frameVersion  hasFoil  hasNonFoil  \\\n",
       "name                                                                       \n",
       "\"Ach! Hans, Run!\"                   []         2003     True        True   \n",
       "\"Rumors of My Death . . .\"          []         2015     True        True   \n",
       "1996 World Champion                 []         1993    False        True   \n",
       "A Display of My Dark Power          []         2003    False        True   \n",
       "A Good Thing                        []         2015    False        True   \n",
       "\n",
       "                           isMtgo isPaper isReprint  layout legalities  \\\n",
       "name                                                                     \n",
       "\"Ach! Hans, Run!\"            None    True      None  normal         {}   \n",
       "\"Rumors of My Death . . .\"   None    True      None  normal         {}   \n",
       "1996 World Champion          None    None      None  normal         {}   \n",
       "A Display of My Dark Power   None    True      None  scheme         {}   \n",
       "A Good Thing                 None    True      None  normal         {}   \n",
       "\n",
       "                                   manaCost     mcmId  mcmMetaId  mtgoFoilId  \\\n",
       "name                                                                           \n",
       "\"Ach! Hans, Run!\"           {2}{R}{R}{G}{G}   14879.0     8868.0         NaN   \n",
       "\"Rumors of My Death . . .\"           {2}{B}  313985.0   235385.0         NaN   \n",
       "1996 World Champion         {W}{U}{B}{R}{G}       NaN        NaN         NaN   \n",
       "A Display of My Dark Power             None       NaN        NaN         NaN   \n",
       "A Good Thing                      {4}{W}{B}       NaN        NaN         NaN   \n",
       "\n",
       "                            mtgoId  multiverseId number  \\\n",
       "name                                                      \n",
       "\"Ach! Hans, Run!\"              NaN       73935.0    116   \n",
       "\"Rumors of My Death . . .\"     NaN      439454.0     65   \n",
       "1996 World Champion            NaN           NaN      1   \n",
       "A Display of My Dark Power     NaN      212578.0     8★   \n",
       "A Good Thing                   NaN      476216.0     86   \n",
       "\n",
       "                                                                                                                                                                                                                                                                                      originalText  \\\n",
       "name                                                                                                                                                                                                                                                                                                 \n",
       "\"Ach! Hans, Run!\"           At the beginning of your upkeep, you may say \"Ach Hans, run It's the . . .\" and name a creature card. If you do, search your library for the named card, put it into play, then shuffle your library. That creature has haste. Remove it from the game at end of turn.   \n",
       "\"Rumors of My Death . . .\"                                                                              {3}{B}, Exile a permanent you control with a League of Dastardly Doom watermark: Return a permanent card with a League of Dastardly Doom watermark from your graveyard to the battlefield.   \n",
       "1996 World Champion                                                                                                                                                                                                                                                                           None   \n",
       "A Display of My Dark Power                                                                                     When you set this scheme in motion, until your next turn, whenever a player taps a land for mana, that player adds one mana to his or her mana pool of any type that land produced.   \n",
       "A Good Thing                                                                 Spells and abilities you control can't destroy, exile, target, or cause you to sacrifice CARDNAME.\\nAt the beginning of your upkeep, double your life total. Then, if you have 1,000 or more life, you lose the game.   \n",
       "\n",
       "                           originalType  \\\n",
       "name                                      \n",
       "\"Ach! Hans, Run!\"           Enchantment   \n",
       "\"Rumors of My Death . . .\"  Enchantment   \n",
       "1996 World Champion                None   \n",
       "A Display of My Dark Power       Scheme   \n",
       "A Good Thing                Enchantment   \n",
       "\n",
       "                                                                                                                     prices  \\\n",
       "name                                                                                                                          \n",
       "\"Ach! Hans, Run!\"           {'mtgo': {}, 'mtgoFoil': {}, 'paper': {'2020-11-06': 3.54}, 'paperFoil': {'2020-11-06': 14.73}}   \n",
       "\"Rumors of My Death . . .\"    {'mtgo': {}, 'mtgoFoil': {}, 'paper': {'2020-11-06': 0.1}, 'paperFoil': {'2020-11-06': 0.52}}   \n",
       "1996 World Champion                                              {'mtgo': {}, 'mtgoFoil': {}, 'paper': {}, 'paperFoil': {}}   \n",
       "A Display of My Dark Power                     {'mtgo': {}, 'mtgoFoil': {}, 'paper': {'2020-11-06': 4.34}, 'paperFoil': {}}   \n",
       "A Good Thing                                   {'mtgo': {}, 'mtgoFoil': {}, 'paper': {'2020-11-06': 3.93}, 'paperFoil': {}}   \n",
       "\n",
       "                           printings  \\\n",
       "name                                   \n",
       "\"Ach! Hans, Run!\"              [UNH]   \n",
       "\"Rumors of My Death . . .\"     [UST]   \n",
       "1996 World Champion           [PCEL]   \n",
       "A Display of My Dark Power    [OARC]   \n",
       "A Good Thing                  [CMB1]   \n",
       "\n",
       "                                                                                                                                       purchaseUrls  \\\n",
       "name                                                                                                                                                  \n",
       "\"Ach! Hans, Run!\"           {'cardmarket': 'https://mtgjson.com/links/6227e6c981cce27c', 'tcgplayer': 'https://mtgjson.com/links/85b366724beadefd'}   \n",
       "\"Rumors of My Death . . .\"  {'cardmarket': 'https://mtgjson.com/links/371e720c2fd4986f', 'tcgplayer': 'https://mtgjson.com/links/f4da472f5769fc77'}   \n",
       "1996 World Champion                                                                                                                            None   \n",
       "A Display of My Dark Power                                                                                                                     None   \n",
       "A Good Thing                                                                            {'tcgplayer': 'https://mtgjson.com/links/f4acf1875df2e203'}   \n",
       "\n",
       "                              rarity  \\\n",
       "name                                   \n",
       "\"Ach! Hans, Run!\"               rare   \n",
       "\"Rumors of My Death . . .\"  uncommon   \n",
       "1996 World Champion             rare   \n",
       "A Display of My Dark Power    common   \n",
       "A Good Thing                    rare   \n",
       "\n",
       "                                                                                                                                                                                                                                                                                                                                                                                                                                                                                                                                                                                                                                                                                                                                                                                                                                                               rulings  \\\n",
       "name                                                                                                                                                                                                                                                                                                                                                                                                                                                                                                                                                                                                                                                                                                                                                                                                                                                                     \n",
       "\"Ach! Hans, Run!\"                                                                                                                                                                                                                                                                                                                                                                                                                                                                                                                                                                                                                                                                                                                                                                                                                                                   []   \n",
       "\"Rumors of My Death . . .\"                                                                                                                                                                                                                                                                                                                                                                                                                                                                                                                                                                                                                                                                                                                                                                                                                                          []   \n",
       "1996 World Champion                                                                                                                                                                                                                                                                                                                                                                                                                                                                                                                                                                                                                                                                                                                                                                                                                                                 []   \n",
       "A Display of My Dark Power  [{'date': '2010-06-15', 'text': 'The ability affects all players, not just you.'}, {'date': '2010-06-15', 'text': 'The effect doesn’t wear off until just before your next untap step (even if an effect will cause that untap step to be skipped).'}, {'date': '2010-06-15', 'text': 'The types of mana are white, blue, black, red, green, and colorless.'}, {'date': '2010-06-15', 'text': 'If a land produces more than one type of mana at a single time (as Boros Garrison does, for example), the land’s controller chooses which one of those types of mana is produced by the delayed triggered ability.'}, {'date': '2010-06-15', 'text': 'If a land is tapped for mana but doesn’t produce any (for example, if you tap Gaea’s Cradle for mana while you control no creatures), the delayed triggered ability won’t trigger.'}]   \n",
       "A Good Thing                                                                                                                                                                                                                                                                                                                                                                                                                                                                   [{'date': '2019-11-12', 'text': 'To double a player’s life total, that player gains as much life as needed so that their life total is twice the number it was before. If their life total was negative, that player loses as much life as needed so that their life total is twice as far below 0 as it was before. Other effects interact with this life gain or loss accordingly.'}]   \n",
       "\n",
       "                                                      scryfallId  \\\n",
       "name                                                               \n",
       "\"Ach! Hans, Run!\"           84f2c8f5-8e11-4639-b7de-00e4a2cbabee   \n",
       "\"Rumors of My Death . . .\"  cb3587b9-e727-4f37-b4d6-1baa7316262f   \n",
       "1996 World Champion         d3f10f07-7cfe-4a6f-8de6-373e367a731b   \n",
       "A Display of My Dark Power  c5287e77-890d-41bd-acc6-7a8f1866426d   \n",
       "A Good Thing                e84a1c2f-482a-42f9-87e9-35a381cad403   \n",
       "\n",
       "                                          scryfallIllustrationId  \\\n",
       "name                                                               \n",
       "\"Ach! Hans, Run!\"           be49af2a-e561-49d6-b21f-4f3bf451f11b   \n",
       "\"Rumors of My Death . . .\"  f04b83e3-012a-473f-b2b1-876741c0645a   \n",
       "1996 World Champion         f12f705b-c031-4eee-814c-089570bf7791   \n",
       "A Display of My Dark Power  3749f9f1-d65e-4365-9287-c2fdf8a5428d   \n",
       "A Good Thing                985e6a4f-e417-44e8-8f4c-1bfa41b44f74   \n",
       "\n",
       "                                                scryfallOracleId  subtypes  \\\n",
       "name                                                                         \n",
       "\"Ach! Hans, Run!\"           a2c5ee76-6084-413c-bb70-45490d818374        []   \n",
       "\"Rumors of My Death . . .\"  38bcba8b-2838-4ac8-9976-f9ccaa94fdba        []   \n",
       "1996 World Champion         39302443-4614-4e62-832a-b74eb2136bc7  [Legend]   \n",
       "A Display of My Dark Power  156107a0-1657-4d04-904c-f8d19df32ff8        []   \n",
       "A Good Thing                9cfdc604-71de-44e4-8ba7-2a3ee03aab68        []   \n",
       "\n",
       "                           supertypes  tcgplayerProductId  \\\n",
       "name                                                        \n",
       "\"Ach! Hans, Run!\"                  []             37816.0   \n",
       "\"Rumors of My Death . . .\"         []            153145.0   \n",
       "1996 World Champion                []             21655.0   \n",
       "A Display of My Dark Power         []             37086.0   \n",
       "A Good Thing                       []            202663.0   \n",
       "\n",
       "                                                                                                                                                                                                                                                                                                                                                                                                                                    text  \\\n",
       "name                                                                                                                                                                                                                                                                                                                                                                                                                                       \n",
       "\"Ach! Hans, Run!\"                                                                                                            At the beginning of your upkeep, you may say \"Ach! Hans, run! It's the . . .\" and the name of a creature card. If you do, search your library for a card with that name, put it onto the battlefield, then shuffle your library. That creature gains haste. Exile it at the beginning of the next end step.   \n",
       "\"Rumors of My Death . . .\"                                                                                                                                                                                                                    {3}{B}, Exile a permanent you control with a League of Dastardly Doom watermark: Return a permanent card with a League of Dastardly Doom watermark from your graveyard to the battlefield.   \n",
       "1996 World Champion         Cannot be the target of spells or effects. World Champion has power and toughness equal to the life total of target opponent.\\n{0}: Discard your hand to search your library for 1996 World Champion and reveal it to all players. Shuffle your library and put 1996 World Champion on top of it. Use this ability only at the beginning of your upkeep, and only if 1996 World Champion is in your library.   \n",
       "A Display of My Dark Power                                                                                                                                                                                                                                                   When you set this scheme in motion, until your next turn, whenever a player taps a land for mana, that player adds one mana of any type that land produced.   \n",
       "A Good Thing                                                                                                                                                                                                   Spells and abilities you control can't destroy, exile, target, or cause you to sacrifice A Good Thing.\\nAt the beginning of your upkeep, double your life total. Then, if you have 1,000 or more life, you lose the game.   \n",
       "\n",
       "                                       type          types  \\\n",
       "name                                                         \n",
       "\"Ach! Hans, Run!\"               Enchantment  [Enchantment]   \n",
       "\"Rumors of My Death . . .\"      Enchantment  [Enchantment]   \n",
       "1996 World Champion         Summon — Legend       [Summon]   \n",
       "A Display of My Dark Power           Scheme       [Scheme]   \n",
       "A Good Thing                    Enchantment  [Enchantment]   \n",
       "\n",
       "                                                            uuid setname  \\\n",
       "name                                                                       \n",
       "\"Ach! Hans, Run!\"           8f9a35d5-a3a2-556b-88da-6686da3aaa34     UNH   \n",
       "\"Rumors of My Death . . .\"  201f7042-dda1-53d6-a0bd-8225ba73f34a     UST   \n",
       "1996 World Champion         6b0e48c0-441d-5a62-a558-3c99473e4387    PCEL   \n",
       "A Display of My Dark Power  5ccf5ac6-84e6-5ae8-a801-6e9cac2f1996    OARC   \n",
       "A Good Thing                5e77de09-7521-54b6-b516-b7ed7740f7fe    CMB1   \n",
       "\n",
       "                                                                                                    flavorText  \\\n",
       "name                                                                                                             \n",
       "\"Ach! Hans, Run!\"                                                                                         None   \n",
       "\"Rumors of My Death . . .\"                    By the fourth funeral, the mooks had gotten pretty good at them.   \n",
       "1996 World Champion                                            It takes great sacrifice to make it to the top.   \n",
       "A Display of My Dark Power  \"What would you say is my greatest attribute? Is it my gluttonous lust for power?\"   \n",
       "A Good Thing                                                                                              None   \n",
       "\n",
       "                           power toughness variations isAlternative  \\\n",
       "name                                                                  \n",
       "\"Ach! Hans, Run!\"           None      None       None          None   \n",
       "\"Rumors of My Death . . .\"  None      None       None          None   \n",
       "1996 World Champion         None      None       None          None   \n",
       "A Display of My Dark Power  None      None       None          None   \n",
       "A Good Thing                None      None       None          None   \n",
       "\n",
       "                           leadershipSkills names hasNoDeckLimit isReserved  \\\n",
       "name                                                                          \n",
       "\"Ach! Hans, Run!\"                      None  None           None       None   \n",
       "\"Rumors of My Death . . .\"             None  None           None       None   \n",
       "1996 World Champion                    None  None           None       None   \n",
       "A Display of My Dark Power             None  None           None       None   \n",
       "A Good Thing                           None  None           None       None   \n",
       "\n",
       "                           hasContentWarning frameEffect frameEffects isPromo  \\\n",
       "name                                                                            \n",
       "\"Ach! Hans, Run!\"                       None        None         None    None   \n",
       "\"Rumors of My Death . . .\"              None        None         None    None   \n",
       "1996 World Champion                     None        None         None    None   \n",
       "A Display of My Dark Power              None        None         None    None   \n",
       "A Good Thing                            None        None         None    None   \n",
       "\n",
       "                           isStarter isBuyABox isFullArt loyalty asciiName  \\\n",
       "name                                                                         \n",
       "\"Ach! Hans, Run!\"               None      None      None    None      None   \n",
       "\"Rumors of My Death . . .\"      None      None      None    None      None   \n",
       "1996 World Champion             True      None      None    None      None   \n",
       "A Display of My Dark Power      True      None      None    None      None   \n",
       "A Good Thing                    True      None      None    None      None   \n",
       "\n",
       "                                        watermark colorIndicator  \\\n",
       "name                                                               \n",
       "\"Ach! Hans, Run!\"                            None           None   \n",
       "\"Rumors of My Death . . .\"  leagueofdastardlydoom           None   \n",
       "1996 World Champion                          None           None   \n",
       "A Display of My Dark Power                   None           None   \n",
       "A Good Thing                                 None           None   \n",
       "\n",
       "                           isStorySpotlight isArena isOnlineOnly  mtgArenaId  \\\n",
       "name                                                                           \n",
       "\"Ach! Hans, Run!\"                      None    None         None         NaN   \n",
       "\"Rumors of My Death . . .\"             None    None         None         NaN   \n",
       "1996 World Champion                    None    None         None         NaN   \n",
       "A Display of My Dark Power             None    None         None         NaN   \n",
       "A Good Thing                           None    None         None         NaN   \n",
       "\n",
       "                            faceConvertedManaCost otherFaceIds  side  hand  \\\n",
       "name                                                                         \n",
       "\"Ach! Hans, Run!\"                             NaN         None  None  None   \n",
       "\"Rumors of My Death . . .\"                    NaN         None  None  None   \n",
       "1996 World Champion                           NaN         None  None  None   \n",
       "A Display of My Dark Power                    NaN         None  None  None   \n",
       "A Good Thing                                  NaN         None  None  None   \n",
       "\n",
       "                            life duelDeck isTimeshifted isDateStamped  \\\n",
       "name                                                                    \n",
       "\"Ach! Hans, Run!\"           None     None          None          None   \n",
       "\"Rumors of My Death . . .\"  None     None          None          None   \n",
       "1996 World Champion         None     None          None          None   \n",
       "A Display of My Dark Power  None     None          None          None   \n",
       "A Good Thing                None     None          None          None   \n",
       "\n",
       "                           flavorName isOversized isTextless isAstral isSega  \n",
       "name                                                                          \n",
       "\"Ach! Hans, Run!\"                None        None       None     None   None  \n",
       "\"Rumors of My Death . . .\"       None        None       None     None   None  \n",
       "1996 World Champion              None        None       None     None   None  \n",
       "A Display of My Dark Power       None        True       None     None   None  \n",
       "A Good Thing                     None        None       None     None   None  "
      ]
     },
     "execution_count": 19,
     "metadata": {},
     "output_type": "execute_result"
    }
   ],
   "source": [
    "cards.head()"
   ]
  },
  {
   "cell_type": "code",
   "execution_count": 18,
   "metadata": {},
   "outputs": [
    {
     "data": {
      "text/plain": [
       "(21814, 77)"
      ]
     },
     "execution_count": 18,
     "metadata": {},
     "output_type": "execute_result"
    }
   ],
   "source": [
    "# before groupby().last(): 56_002, 78\n",
    "# after: 21_814, 77\n",
    "cards.shape if IS_LOCAL_LAPTOP else None"
   ]
  },
  {
   "cell_type": "code",
   "execution_count": null,
   "metadata": {},
   "outputs": [],
   "source": [
    "if IS_LOCAL_LAPTOP:\n",
    "    all_cards = set(cards.index.values)"
   ]
  },
  {
   "cell_type": "markdown",
   "metadata": {},
   "source": [
    "we can eventually use this dataframe to create a generator of true card pairs off of a single card anchor"
   ]
  },
  {
   "cell_type": "markdown",
   "metadata": {},
   "source": [
    "### split, stratifying on card color identity, card type, rarity.\n",
    "\n",
    "we will split on cards. this is actually tricky, right? it would be easy if we could just do a 95/5/5 and then there was enough pairing between 5s and other 5s to build an entire test / val set, but I actually suspect we might have a problem fielding that many extra records. oh well, I guess we'll tell in due time\n",
    "\n",
    "since we want to stratify on so many things, and we have a 2/3s chance of any card being in the true label, I actually think fully random sampling is approporiate. we can look at the breakdown of that by other features if we need to\n",
    "\n",
    "update: let's hold out the two most recent full sets (zendikar rising (`ZNR`) and ikoria: lair of behemoths (`IKO`)) as a \"new set generalization\" test"
   ]
  },
  {
   "cell_type": "code",
   "execution_count": null,
   "metadata": {},
   "outputs": [],
   "source": [
    "if BUILD_TTV_DATASETS:\n",
    "    new_sets = ['ZNR', 'IKO']\n",
    "    \n",
    "    new_set = cards[cards.setname.isin(new_sets)]\n",
    "    old_set = cards[~cards.setname.isin(new_sets)]\n",
    "    \n",
    "    cards_test = new_set.index.values\n",
    "    cards_train, cards_val = train_test_split(old_set.index.values, test_size=.05, random_state=1337)\n",
    "\n",
    "    print(f\"\"\"\n",
    "train: {cards_train.shape[0]}\n",
    "test: {cards_test.shape[0]}\n",
    "val: {cards_val.shape[0]}\n",
    "\"\"\")"
   ]
  },
  {
   "cell_type": "markdown",
   "metadata": {},
   "source": [
    "### convert cards into sentences"
   ]
  },
  {
   "cell_type": "code",
   "execution_count": null,
   "metadata": {},
   "outputs": [],
   "source": [
    "cmc_map = {0.0: 'zero',\n",
    "           0.5: 'one half',\n",
    "           1.0: 'one',\n",
    "           2.0: 'two',\n",
    "           3.0: 'three',\n",
    "           4.0: 'four',\n",
    "           5.0: 'five',\n",
    "           6.0: 'six',\n",
    "           7.0: 'seven',\n",
    "           8.0: 'eight',\n",
    "           9.0: 'nine',\n",
    "           10.0: 'ten',\n",
    "           11.0: 'eleven',\n",
    "           12.0: 'twelve',\n",
    "           13.0: 'thirteen',\n",
    "           14.0: 'fourteen',\n",
    "           15.0: 'fifteen',\n",
    "           16.0: 'sixteen',\n",
    "           1000000.0: 'one million', }\n",
    "\n",
    "\n",
    "color_map = {'W': 'white', 'U': 'blue', 'B': 'black', 'R': 'red', 'G': 'green'}\n",
    "\n",
    "\n",
    "def parse_mana_colors_from_cost(mc):\n",
    "    return ', '.join(color_map[c] for c in 'WUBRG' if c in (mc or ''))"
   ]
  },
  {
   "cell_type": "code",
   "execution_count": null,
   "metadata": {},
   "outputs": [],
   "source": [
    "assert parse_mana_colors_from_cost('{2}{U}{U}{B}') == 'blue, black'\n",
    "assert parse_mana_colors_from_cost('{8}{W}{W}') == 'white'"
   ]
  },
  {
   "cell_type": "code",
   "execution_count": null,
   "metadata": {},
   "outputs": [],
   "source": [
    "def get_card_text(card):\n",
    "    mana_color_str = parse_mana_colors_from_cost(card.manaCost)\n",
    "    cmc_str = f\"{cmc_map[card.convertedManaCost]} mana\"\n",
    "    \n",
    "    if mana_color_str != '':\n",
    "        mana_color_str = f' including {mana_color_str}'\n",
    "    \n",
    "    return (f\"for {cmc_str}{mana_color_str}, cast {card.type} {card.name}: {card.text}\"\n",
    "            .lower()\n",
    "            .replace('\\n', ' '))"
   ]
  },
  {
   "cell_type": "code",
   "execution_count": null,
   "metadata": {},
   "outputs": [],
   "source": [
    "if IS_LOCAL_LAPTOP:\n",
    "    card_text = pd.DataFrame({'text': cards.apply(get_card_text, axis=1)})\n",
    "card_text.head(20) if IS_LOCAL_LAPTOP else None"
   ]
  },
  {
   "cell_type": "markdown",
   "metadata": {},
   "source": [
    "let's just go with this, see how it works out"
   ]
  },
  {
   "cell_type": "markdown",
   "metadata": {},
   "source": [
    "### create a `huggingface` `datasets`\n",
    "\n",
    "following along with the relatively simple example [here](https://github.com/huggingface/datasets/blob/master/datasets/squad/squad.py)"
   ]
  },
  {
   "cell_type": "markdown",
   "metadata": {},
   "source": [
    "#### custom dataset loader?\n",
    "\n",
    "meh let's try the `csv` loader first"
   ]
  },
  {
   "cell_type": "raw",
   "metadata": {},
   "source": [
    "class Edhrec(datasets.GeneratorBasedBuilder):\n",
    "    raise NotImplementedError(\"havent written builder configs\")\n",
    "    BUILDER_CONFIGS = []\n",
    "    \n",
    "    def _info(self):\n",
    "        return datasets.DatasetInfo(\n",
    "            description=\"lol no thanks\",\n",
    "            features=datasets.Features({\"id\": datasets.Value('string'),\n",
    "                                        \"text_a\": datasets.Value('string'),\n",
    "                                        \"text_b\": datasets.Value('string'),\n",
    "                                        \"label\": datasets.Value(\"int32\"), }),\n",
    "            supervised_keys=None\n",
    "        )"
   ]
  },
  {
   "cell_type": "markdown",
   "metadata": {},
   "source": [
    "#### `csv` loader\n",
    "\n",
    "generate `csv`s the same way we were doing `parquet` (see appendix) and load those as datasets"
   ]
  },
  {
   "cell_type": "code",
   "execution_count": null,
   "metadata": {},
   "outputs": [],
   "source": [
    "def card_sampler(cardlist, num_pairs_per_card=10, exclude_cards=None):\n",
    "    exclude_cards = exclude_cards or set()\n",
    "    np.random.seed(1337)\n",
    "    neg_card_options = np.array(list(all_cards.difference(exclude_cards)))\n",
    "    for card in tqdm(cardlist):\n",
    "        rec = card_text.loc[card]\n",
    "        commanders = edhrec_cards[edhrec_cards.name == card].commander.unique()\n",
    "        \n",
    "        # get positive card labels\n",
    "        pos_options = (edhrec_cards[edhrec_cards.commander.isin(commanders)\n",
    "                                    & (edhrec_cards.name != card)\n",
    "                                    & (~edhrec_cards.name.isin(exclude_cards))]\n",
    "                       .name.unique())\n",
    "\n",
    "        n_labels = min(num_pairs_per_card, pos_options.shape[0])\n",
    "        pos_cards = np.random.choice(pos_options,\n",
    "                                     size=n_labels,\n",
    "                                     replace=False)\n",
    "        \n",
    "        for pos_card in pos_cards:\n",
    "            try:\n",
    "                pos_text_rec = card_text.loc[pos_card]\n",
    "            except KeyError:\n",
    "                try:\n",
    "                    pos_text_rec = card_text.loc[pos_card.replace('//', '/')]\n",
    "                except KeyError:\n",
    "                    pass\n",
    "            yield (*rec, *pos_text_rec, True)\n",
    "        \n",
    "        # get negative samples:\n",
    "        # start by getting 3x as many as we had before, and assume that this\n",
    "        # will net at least x that aren't positive label options. additionally,\n",
    "        # we are comfortable having a full set of negative labels even if we\n",
    "        # had few (or no!) positive labels\n",
    "        neg_cards = np.random.choice(neg_card_options,\n",
    "                                     size=3 * num_pairs_per_card,\n",
    "                                     replace=False)\n",
    "        \n",
    "        neg_cards = list(set(neg_cards).difference(pos_cards))[:n_labels]\n",
    "        for neg_card in neg_cards:\n",
    "            neg_text_rec = card_text.loc[neg_card]\n",
    "            yield (*rec, *neg_text_rec, False)"
   ]
  },
  {
   "cell_type": "code",
   "execution_count": null,
   "metadata": {},
   "outputs": [],
   "source": [
    "import math\n",
    "\n",
    "def card_sampler_v2(cardlist, num_pairs_per_card=100, exclude_cards=None):\n",
    "    exclude_cards = exclude_cards or set()\n",
    "    np.random.seed(1337)\n",
    "    \n",
    "    allowed_edhrec_cards_df = edhrec_cards[~edhrec_cards.name.isin(exclude_cards)]\n",
    "    allowed_non_edhrec_cards = np.array(list(all_cards.difference(exclude_cards)))\n",
    "    \n",
    "    # print(allowed_edhrec_cards_df.head())\n",
    "    # print(allowed_non_edhrec_cards)\n",
    "    \n",
    "    for name_a in tqdm(cardlist):\n",
    "        text_a = card_text.loc[name_a, 'text']\n",
    "        commanders = edhrec_cards[edhrec_cards.name == name_a].commander.unique()\n",
    "        \n",
    "        if commanders.shape[0] > 0:\n",
    "            commander_peers = (allowed_edhrec_cards_df\n",
    "                               [allowed_edhrec_cards_df.commander.isin(commanders)\n",
    "                                & (allowed_edhrec_cards_df.name != name_a)]\n",
    "                               .name.unique())\n",
    "            \n",
    "            commander_non_peers = (allowed_edhrec_cards_df\n",
    "                                   [(~allowed_edhrec_cards_df.commander.isin(commanders))\n",
    "                                    & (allowed_edhrec_cards_df.name != name_a)]\n",
    "                                   .name.unique())\n",
    "            \n",
    "            # true labels: true pairs from this card's commander peers\n",
    "            n_true = min(num_pairs_per_card, commander_peers.shape[0])\n",
    "            \n",
    "            true_recs = np.random.choice(commander_peers,\n",
    "                                         size=n_true,\n",
    "                                         replace=False)\n",
    "\n",
    "            # false labels, high info: any edhrec cards that aren't commander peers\n",
    "            n_false_high = min(num_pairs_per_card, commander_non_peers.shape[0])\n",
    "            false_recs = np.random.choice(commander_non_peers,\n",
    "                                          size=n_false_high,\n",
    "                                          replace=False)\n",
    "            \n",
    "            # false labels, low info: any non-edhrec cards\n",
    "            #   actually, just get these from the non-edhrec cards\n",
    "            \n",
    "            rec_iters = [(true_recs, 1, 'edh-edh'), (false_recs, 0, 'edh-not')]\n",
    "        else:\n",
    "            n_high = math.ceil(2 * num_pairs_per_card / 3)\n",
    "            n_low = num_pairs_per_card - n_high\n",
    "            \n",
    "            # false labels, high info: any edhrec card\n",
    "            high_recs = np.random.choice(allowed_edhrec_cards_df.name.unique(),\n",
    "                                         size=n_high,\n",
    "                                         replace=False)\n",
    "            \n",
    "            # false labels, low info: any non-edhrec cards\n",
    "            low_recs = np.random.choice(allowed_non_edhrec_cards,\n",
    "                                        size=n_low,\n",
    "                                        replace=False)\n",
    "            \n",
    "            rec_iters = [(high_recs, 0, 'not-edh'), (low_recs, 0, 'not-not')]\n",
    "        \n",
    "        for name_b_rec_set, label, rec_set_type in rec_iters:\n",
    "            for name_b in name_b_rec_set:\n",
    "                try:\n",
    "                    text_b = card_text.loc[name_b, 'text']\n",
    "                except KeyError:\n",
    "                    try:\n",
    "                        text_b = card_text.loc[name_b.replace('//', '/'), 'text']\n",
    "                    except KeyError:\n",
    "                        pass\n",
    "                yield (name_a, text_a, name_b, text_b, label, rec_set_type)"
   ]
  },
  {
   "cell_type": "code",
   "execution_count": null,
   "metadata": {},
   "outputs": [],
   "source": [
    "def grouper(iterable, n, fillvalue=None):\n",
    "    \"Collect data into fixed-length chunks or blocks\"\n",
    "    # grouper('ABCDEFG', 3, 'x') --> ABC DEF Gxx\"\n",
    "    args = [iter(iterable)] * n\n",
    "    return itertools.zip_longest(*args, fillvalue=fillvalue)"
   ]
  },
  {
   "cell_type": "code",
   "execution_count": null,
   "metadata": {},
   "outputs": [],
   "source": [
    "data_dir = os.path.join('.', 'data_v2' if USE_CARD_SAMPLER_V2 else 'data')\n",
    "\n",
    "if BUILD_TTV_DATASETS:\n",
    "    \n",
    "    !rm -rf {data_dir}\n",
    "    \n",
    "    for split_type in ['train', 'test', 'val']:\n",
    "        os.makedirs(os.path.join(data_dir, split_type), exist_ok=True)\n",
    "        \n",
    "    !tree ."
   ]
  },
  {
   "cell_type": "code",
   "execution_count": null,
   "metadata": {},
   "outputs": [],
   "source": [
    "NUM_PAIRS_PER_CARD = 100\n",
    "PARQUET_CHUNK_SIZE = 100_000\n",
    "\n",
    "if BUILD_TTV_DATASETS:\n",
    "    columns = (['name_a', 'text_a', 'name_b', 'text_b', 'label', 'rec_set_type']\n",
    "               if USE_CARD_SAMPLER_V2\n",
    "               else ['text_a', 'text_b', 'label'])\n",
    "    \n",
    "    for (split_type, cardlist, exclude_cardlist) in [['val', cards_val, set(cards_test)],\n",
    "                                                     ['test', cards_test, None],\n",
    "                                                     ['train', cards_train, set(cards_val).union(cards_test)], ]:\n",
    "        \n",
    "        cs_foo = card_sampler_v2 if USE_CARD_SAMPLER_V2 else card_sampler\n",
    "        sampler = cs_foo(cardlist, NUM_PAIRS_PER_CARD, exclude_cardlist)\n",
    "        \n",
    "        for (i, grp) in enumerate(tqdm(grouper(sampler, PARQUET_CHUNK_SIZE))):\n",
    "            (pd.DataFrame(grp, columns=columns)\n",
    "             .dropna()\n",
    "             .to_csv(os.path.join(data_dir, split_type, f'part-{i:0>5}.csv'),\n",
    "                     index=False,\n",
    "                     quoting=csv.QUOTE_ALL))"
   ]
  },
  {
   "cell_type": "code",
   "execution_count": null,
   "metadata": {},
   "outputs": [],
   "source": [
    "if BUILD_TTV_DATASETS:\n",
    "    !tree ."
   ]
  },
  {
   "cell_type": "markdown",
   "metadata": {},
   "source": [
    "#### loading csvs, shuffling, tokenizing, etc datasets now\n",
    "\n",
    "+ tokenizing from [here](https://huggingface.co/docs/datasets/processing.html#processing-data-in-batches)"
   ]
  },
  {
   "cell_type": "code",
   "execution_count": null,
   "metadata": {},
   "outputs": [],
   "source": [
    "def tokenizer_map_func(rec):\n",
    "    return tokenizer(rec['text_a'], rec['text_b'],\n",
    "                     padding='max_length',\n",
    "                     max_length=MAX_LENGTH,\n",
    "                     truncation=True)"
   ]
  },
  {
   "cell_type": "code",
   "execution_count": null,
   "metadata": {},
   "outputs": [],
   "source": [
    "def fix_label(rec):\n",
    "    return {'label_as_int': [int(_) for _ in rec['label']]}"
   ]
  },
  {
   "cell_type": "code",
   "execution_count": null,
   "metadata": {},
   "outputs": [],
   "source": [
    "if USE_CARD_SAMPLER_V2:\n",
    "    features = datasets.Features({'name_a': datasets.Value(dtype='string'),\n",
    "                                  'text_a': datasets.Value(dtype='string'),\n",
    "                                  'name_b': datasets.Value(dtype='string'),\n",
    "                                  'text_b': datasets.Value(dtype='string'),\n",
    "                                  'label': datasets.Value(dtype='int64'),\n",
    "                                  'rec_set_type': datasets.Value(dtype='string'), })\n",
    "else:\n",
    "    features = datasets.Features({'text_a': datasets.Value(dtype='string'),\n",
    "                                  'text_b': datasets.Value(dtype='string'),\n",
    "                                  'label': datasets.Value(dtype='bool'), })"
   ]
  },
  {
   "cell_type": "code",
   "execution_count": null,
   "metadata": {},
   "outputs": [],
   "source": [
    "MAX_LENGTH = 300\n",
    "\n",
    "if DO_FINE_TUNING:\n",
    "    tokenizer = BertTokenizerFast.from_pretrained('bert-base-uncased')\n",
    "\n",
    "    split_types = ['val', 'test', 'train']\n",
    "    \n",
    "    dataset = (load_dataset('csv',\n",
    "                            data_files={split_type: glob(os.path.join(data_dir, split_type, '*.csv'))\n",
    "                                        for split_type in split_types},\n",
    "                            quoting=csv.QUOTE_ALL,\n",
    "                            features=features)\n",
    "               #.map(fix_label,\n",
    "               #     batched=True)\n",
    "               .shuffle(seeds={split_type: 1337\n",
    "                               for split_type in split_types})\n",
    "               .map(tokenizer_map_func,\n",
    "                    batched=True))"
   ]
  },
  {
   "cell_type": "code",
   "execution_count": null,
   "metadata": {},
   "outputs": [],
   "source": [
    "dataset if DO_FINE_TUNING else None"
   ]
  },
  {
   "cell_type": "markdown",
   "metadata": {},
   "source": [
    "## fine-tune"
   ]
  },
  {
   "cell_type": "code",
   "execution_count": null,
   "metadata": {},
   "outputs": [],
   "source": [
    "TRAIN_BATCH = 36\n",
    "EVAL_BATCH = 36\n",
    "\n",
    "\n",
    "if DO_FINE_TUNING:\n",
    "    output_dir = './results_v2' if USE_CARD_SAMPLER_V2 else None\n",
    "    model = BertForNextSentencePrediction.from_pretrained('bert-base-uncased')\n",
    "    \n",
    "    # # use this format to pick up from an aborted run\n",
    "    # model = BertForNextSentencePrediction.from_pretrained('./results_v2/checkpoint-5750')\n",
    "\n",
    "    training_args = TrainingArguments(\n",
    "        output_dir=output_dir,                    # output directory\n",
    "        num_train_epochs=1,                       # total # of training epochs\n",
    "        per_device_train_batch_size=TRAIN_BATCH,  # batch size per device during training\n",
    "        per_device_eval_batch_size=EVAL_BATCH,    # batch size for evaluation\n",
    "        warmup_steps=500,                         # number of warmup steps for learning rate scheduler\n",
    "        weight_decay=0.01,                        # strength of weight decay\n",
    "        logging_dir='./logs',                     # directory for storing logs\n",
    "        # my custom ones\n",
    "        logging_steps=250,\n",
    "        overwrite_output_dir=True,\n",
    "        evaluation_strategy='steps',\n",
    "        logging_first_step=True,\n",
    "        seed=1337,\n",
    "        dataloader_drop_last=True,\n",
    "        dataloader_num_workers=30,\n",
    "        label_names=['labels'],\n",
    "        load_best_model_at_end=True,\n",
    "        save_total_limit=10,\n",
    "    )\n",
    "\n",
    "\n",
    "    trainer = Trainer(\n",
    "        model=model,                              # the instantiated 🤗 Transformers model to be trained\n",
    "        args=training_args,                       # training arguments, defined above\n",
    "        train_dataset=dataset['train'],           # training dataset\n",
    "        eval_dataset=dataset['val']#.select(range(EVAL_BATCH * 1_000)),  # evaluation dataset\n",
    "    )"
   ]
  },
  {
   "cell_type": "code",
   "execution_count": null,
   "metadata": {
    "scrolled": false
   },
   "outputs": [],
   "source": [
    "if DO_FINE_TUNING:\n",
    "    trainer.train()"
   ]
  },
  {
   "cell_type": "code",
   "execution_count": null,
   "metadata": {},
   "outputs": [],
   "source": [
    "trainer.evaluate() if DO_FINE_TUNING else None"
   ]
  },
  {
   "cell_type": "code",
   "execution_count": null,
   "metadata": {},
   "outputs": [],
   "source": [
    "model_name = \"edhrec-v2-bert-base-uncased\" if USE_CARD_SAMPLER_V2 else 'edhrec-bert-base-uncased'\n",
    "\n",
    "if DO_FINE_TUNING:\n",
    "    model.save_pretrained(model_name)\n",
    "    tokenizer.save_pretrained(model_name)"
   ]
  },
  {
   "cell_type": "code",
   "execution_count": null,
   "metadata": {},
   "outputs": [],
   "source": [
    "# # run this if we did evaluate on only a sub-sample above\n",
    "# trainer.evaluate(dataset['val']) if DO_FINE_TUNING else None"
   ]
  },
  {
   "cell_type": "code",
   "execution_count": null,
   "metadata": {},
   "outputs": [],
   "source": [
    "trainer.evaluate(dataset['test']) if DO_FINE_TUNING else None"
   ]
  },
  {
   "cell_type": "code",
   "execution_count": null,
   "metadata": {},
   "outputs": [],
   "source": [
    "if DO_FINE_TUNING:\n",
    "    p = trainer.predict(dataset['test'])"
   ]
  },
  {
   "cell_type": "code",
   "execution_count": null,
   "metadata": {},
   "outputs": [],
   "source": [
    "dataset['test']['text_a'][0] if DO_FINE_TUNING else None"
   ]
  },
  {
   "cell_type": "code",
   "execution_count": null,
   "metadata": {},
   "outputs": [],
   "source": [
    "dataset['test']['text_b'][0] if DO_FINE_TUNING else None"
   ]
  },
  {
   "cell_type": "code",
   "execution_count": null,
   "metadata": {},
   "outputs": [],
   "source": [
    "dataset['test'][0]['label'] if DO_FINE_TUNING else None"
   ]
  },
  {
   "cell_type": "code",
   "execution_count": null,
   "metadata": {},
   "outputs": [],
   "source": [
    "if DO_FINE_TUNING:\n",
    "    zero_max = p.predictions[:, 0].argmax()\n",
    "\n",
    "p.predictions[zero_max] if DO_FINE_TUNING else None"
   ]
  },
  {
   "cell_type": "code",
   "execution_count": null,
   "metadata": {},
   "outputs": [],
   "source": [
    "dataset['test']['text_a'][zero_max] if DO_FINE_TUNING else None"
   ]
  },
  {
   "cell_type": "code",
   "execution_count": null,
   "metadata": {},
   "outputs": [],
   "source": [
    "dataset['test']['text_b'][zero_max] if DO_FINE_TUNING else None"
   ]
  },
  {
   "cell_type": "code",
   "execution_count": null,
   "metadata": {},
   "outputs": [],
   "source": [
    "if DO_FINE_TUNING:\n",
    "    one_max = p.predictions[:, 1].argmax()\n",
    "\n",
    "p.predictions[one_max] if DO_FINE_TUNING else None"
   ]
  },
  {
   "cell_type": "code",
   "execution_count": null,
   "metadata": {},
   "outputs": [],
   "source": [
    "dataset['test']['text_a'][one_max] if DO_FINE_TUNING else None"
   ]
  },
  {
   "cell_type": "code",
   "execution_count": null,
   "metadata": {},
   "outputs": [],
   "source": [
    "dataset['test']['text_b'][one_max] if DO_FINE_TUNING else None"
   ]
  },
  {
   "cell_type": "code",
   "execution_count": null,
   "metadata": {},
   "outputs": [],
   "source": [
    "# {k: np.array(v) for (k, v) in dataset['test'][:10].items() if k in ['attention_mask', 'input_ids', 'label', 'token_type_ids']}"
   ]
  },
  {
   "cell_type": "code",
   "execution_count": null,
   "metadata": {},
   "outputs": [],
   "source": [
    "import torch\n",
    "\n",
    "if DO_FINE_TUNING:\n",
    "    p = (model(**{k: torch.as_tensor(np.array(v)).to(\"cuda\")\n",
    "              for (k, v) in dataset['test'][:10].items()\n",
    "              if k in ['attention_mask', 'input_ids', 'token_type_ids']})\n",
    "     [0]\n",
    "     .softmax(1))\n",
    "\n",
    "p if DO_FINE_TUNING else None"
   ]
  },
  {
   "cell_type": "code",
   "execution_count": null,
   "metadata": {},
   "outputs": [],
   "source": [
    "dataset['test']['label'][:10] if DO_FINE_TUNING else None"
   ]
  },
  {
   "cell_type": "markdown",
   "metadata": {},
   "source": [
    "## double-checking our trained model\n",
    "\n",
    "next steps\n",
    "\n",
    "+ what do our false positives look like\n",
    "+ what is the separation like for \"cards that have been on edhrec\" vs. \"cards that havent\n",
    "    + i.e. do we just predict \"both cards have been on EDHREC\"?\n",
    "    + did we create a dataset that is just (edhrec cards, either type)? I thought we were making (either type, either type)\n",
    "+ what is the sorted list of recommendations given an existing deck"
   ]
  },
  {
   "cell_type": "markdown",
   "metadata": {},
   "source": [
    "why are these all only edhrec cards? I thought I was generating pairs from both sides?\n",
    "\n",
    "is this a problem? when a new card shows up and has never been seen before, will the model be unable to handle it? I think not, because presumably there were cards in test / val that it had never seen before (have I verified that)."
   ]
  },
  {
   "cell_type": "code",
   "execution_count": null,
   "metadata": {},
   "outputs": [],
   "source": [
    "if USE_FINE_TUNED_MODEL:\n",
    "    # loading the trained model\n",
    "    config = BertConfig.from_pretrained(model_name)\n",
    "    model = BertForNextSentencePrediction.from_pretrained(model_name, config=config)\n",
    "    tokenizer = BertTokenizerFast.from_pretrained(model_name)"
   ]
  },
  {
   "cell_type": "code",
   "execution_count": null,
   "metadata": {},
   "outputs": [],
   "source": [
    "EVAL_BATCH = 36\n",
    "\n",
    "if USE_FINE_TUNED_MODEL:\n",
    "    training_args = TrainingArguments(\n",
    "        output_dir='./ignore',\n",
    "        per_device_eval_batch_size=EVAL_BATCH,    # batch size for evaluation\n",
    "        label_names=['labels'],\n",
    "    )\n",
    "\n",
    "    trainer = Trainer(model=model, args=training_args, )"
   ]
  },
  {
   "cell_type": "code",
   "execution_count": null,
   "metadata": {},
   "outputs": [],
   "source": [
    "MAX_LENGTH = 300\n",
    "\n",
    "if CHECK_FINE_TUNED_MODEL_RESULTS:\n",
    "    split_types = ['val', 'test', 'train']\n",
    "    \n",
    "    dataset = (load_dataset('csv',\n",
    "                            data_files={split_type: glob(os.path.join(data_dir, split_type, '*.csv'))\n",
    "                                        for split_type in split_types},\n",
    "                            quoting=csv.QUOTE_ALL,\n",
    "                            features=features)\n",
    "               #.map(fix_label,\n",
    "               #     batched=True)\n",
    "               .shuffle(seeds={split_type: 1337\n",
    "                               for split_type in split_types})\n",
    "               .map(tokenizer_map_func,\n",
    "                    batched=True))"
   ]
  },
  {
   "cell_type": "code",
   "execution_count": null,
   "metadata": {},
   "outputs": [],
   "source": [
    "if CHECK_FINE_TUNED_MODEL_RESULTS:\n",
    "    p = trainer.predict(dataset['test'].select(range(1_000)))"
   ]
  },
  {
   "cell_type": "code",
   "execution_count": null,
   "metadata": {},
   "outputs": [],
   "source": [
    "p.predictions.shape if CHECK_FINE_TUNED_MODEL_RESULTS else None"
   ]
  },
  {
   "cell_type": "code",
   "execution_count": null,
   "metadata": {},
   "outputs": [],
   "source": [
    "p.label_ids.shape if CHECK_FINE_TUNED_MODEL_RESULTS else None"
   ]
  },
  {
   "cell_type": "code",
   "execution_count": null,
   "metadata": {},
   "outputs": [],
   "source": [
    "p.metrics if CHECK_FINE_TUNED_MODEL_RESULTS else None"
   ]
  },
  {
   "cell_type": "code",
   "execution_count": null,
   "metadata": {},
   "outputs": [],
   "source": [
    "from scipy.special import softmax\n",
    "\n",
    "if CHECK_FINE_TUNED_MODEL_RESULTS:\n",
    "    probs = softmax(p.predictions, axis=1)\n",
    "\n",
    "    z = pd.DataFrame({'p1': probs[:, 1],\n",
    "                      'y_pred': probs.argmax(axis=1),\n",
    "                      'y': p.label_ids})\n",
    "    z.loc[:, 'is_right'] = z.y == z.y_pred\n",
    "    z.loc[:, 'rec_set_type'] = dataset['test'].select(range(1_000))['rec_set_type']\n",
    "\n",
    "    z.sort_values(by='p1', ascending=False, inplace=True)\n",
    "    z.reset_index(drop=True, inplace=True)\n",
    "\n",
    "z.is_right.value_counts() if CHECK_FINE_TUNED_MODEL_RESULTS else None"
   ]
  },
  {
   "cell_type": "code",
   "execution_count": null,
   "metadata": {},
   "outputs": [],
   "source": [
    "z.head()"
   ]
  },
  {
   "cell_type": "code",
   "execution_count": null,
   "metadata": {},
   "outputs": [],
   "source": [
    "z.groupby('rec_set_type').is_right.value_counts(normalize=True) if CHECK_FINE_TUNED_MODEL_RESULTS else None"
   ]
  },
  {
   "cell_type": "code",
   "execution_count": null,
   "metadata": {},
   "outputs": [],
   "source": [
    "if CHECK_FINE_TUNED_MODEL_RESULTS:\n",
    "    total_true = z.y.sum()\n",
    "    (z.y.cumsum() / total_true).plot()"
   ]
  },
  {
   "cell_type": "code",
   "execution_count": null,
   "metadata": {},
   "outputs": [],
   "source": [
    "if CHECK_FINE_TUNED_MODEL_RESULTS:\n",
    "    z.p1.hist(bins=20)"
   ]
  },
  {
   "cell_type": "markdown",
   "metadata": {},
   "source": [
    "## make deck predictions for one of my existing decks"
   ]
  },
  {
   "cell_type": "markdown",
   "metadata": {},
   "source": [
    "TODO\n",
    "\n",
    "+ make the combo dataframe\n",
    "+ convert that into a dataset (probably a `.from_pandas` or some shit)\n",
    "+ pass that to eval\n",
    "+ sort by predictions\n",
    "+ profit"
   ]
  },
  {
   "cell_type": "raw",
   "metadata": {},
   "source": [
    "!ls -alh ../../mtg/mtg/tags/"
   ]
  },
  {
   "cell_type": "raw",
   "metadata": {},
   "source": [
    "!touch ~/.virtualenvs/mtg-research/src/mtg/mtg/tags.py"
   ]
  },
  {
   "cell_type": "markdown",
   "metadata": {},
   "source": [
    "run the following on a computer with `mtg` installed"
   ]
  },
  {
   "cell_type": "code",
   "execution_count": null,
   "metadata": {},
   "outputs": [],
   "source": [
    "sets_to_check = [\n",
    "    \"2XM\",\n",
    "    \"AKR\",\n",
    "    \"C20\",\n",
    "    \"CC1\",\n",
    "    \"CMC\",\n",
    "    \"CMR\",\n",
    "    \"IKO\",\n",
    "    \"JMP\",\n",
    "    \"KHC\",\n",
    "    \"M21\",\n",
    "    \"MB1\",\n",
    "    \"MH2\",\n",
    "    \"Q03\",\n",
    "    \"SLD\",\n",
    "    \"SLU\",\n",
    "    \"SS3\",\n",
    "    \"THB\",\n",
    "    \"TSR\",\n",
    "    \"ZNC\",\n",
    "    \"ZNE\",\n",
    "    \"ZNR\",\n",
    "]"
   ]
  },
  {
   "cell_type": "code",
   "execution_count": null,
   "metadata": {},
   "outputs": [],
   "source": [
    "if MAKE_DECK_RECOMMENDATION_DATASETS:\n",
    "    from deck_lists import (esper_blink,\n",
    "                            goblins,\n",
    "                            infinite_purphoros,\n",
    "                            kykar_cards,\n",
    "                            rogues,\n",
    "                            tokens, )\n",
    "\n",
    "    it = [(kykar_cards, ['W', 'U', 'R'], 'kykar.csv'),\n",
    "          (infinite_purphoros, ['R'], 'infinite_purphoros.csv'),\n",
    "          (tokens, ['W', 'G'], 'tokens.csv'),\n",
    "          (goblins, ['B', 'R'], 'goblins.csv'),\n",
    "          (rogues, ['U', 'B', 'R'], 'rogues.csv'),\n",
    "          (esper_blink, ['U', 'B', 'W'], 'esper_blink.csv')]"
   ]
  },
  {
   "cell_type": "code",
   "execution_count": null,
   "metadata": {},
   "outputs": [],
   "source": [
    "if MAKE_DECK_RECOMMENDATION_DATASETS:\n",
    "    for (deck_cards, deck_colors, f_out) in it:\n",
    "        print(f\"f_out = {f_out}\")\n",
    "        cards_to_check = (cards\n",
    "                          [cards.setname.isin(sets_to_check)\n",
    "                           & cards.colorIdentity.apply(lambda x: set(x).difference(deck_colors) == set())\n",
    "                           & ~cards.index.isin(deck_cards)]\n",
    "                          .index\n",
    "                          .unique())\n",
    "\n",
    "        df_to_check = pd.DataFrame([{'text_a': card_text.loc[kc, 'text'],\n",
    "                                     'text_b': card_text.loc[ctc, 'text'],\n",
    "                                     'name_a': kc,\n",
    "                                     'name_b': ctc}\n",
    "                                    for kc in deck_cards\n",
    "                                    for ctc in cards_to_check])\n",
    "\n",
    "        print(df_to_check.shape)\n",
    "\n",
    "        df_to_check.to_csv(os.path.join('.', f_out),\n",
    "                           index=False,\n",
    "                           quoting=csv.QUOTE_ALL)"
   ]
  },
  {
   "cell_type": "markdown",
   "metadata": {},
   "source": [
    "now run the following on any machine that has those `csvs` copied to it"
   ]
  },
  {
   "cell_type": "code",
   "execution_count": null,
   "metadata": {},
   "outputs": [],
   "source": [
    "deck_names = ['esper_blink',\n",
    "              'goblins',\n",
    "              'kykar',\n",
    "              'infinite_purphoros',\n",
    "              'rogues',\n",
    "              'tokens']"
   ]
  },
  {
   "cell_type": "code",
   "execution_count": null,
   "metadata": {},
   "outputs": [],
   "source": [
    "if DO_DECK_RECOMMENDATIONS:\n",
    "    ds_to_check = (load_dataset('csv',\n",
    "                                data_files={k: f'{k}.csv' for k in deck_names},\n",
    "                                quoting=csv.QUOTE_ALL)\n",
    "                   .map(tokenizer_map_func, batched=True))\n",
    "\n",
    "ds_to_check if DO_DECK_RECOMMENDATIONS else None"
   ]
  },
  {
   "cell_type": "code",
   "execution_count": null,
   "metadata": {},
   "outputs": [],
   "source": [
    "from scipy.special import softmax\n",
    "\n",
    "version_str = '.v2' if USE_CARD_SAMPLER_V2 else ''\n",
    "\n",
    "if DO_DECK_RECOMMENDATIONS:\n",
    "    for deck_name in deck_names:\n",
    "        print(f\"deck_name = {deck_name}\")\n",
    "        p = trainer.predict(ds_to_check[deck_name])\n",
    "        print(f\"p.predictions.shape = {p.predictions.shape}\")\n",
    "\n",
    "        probs = softmax(p.predictions, axis=1)\n",
    "\n",
    "        z = pd.DataFrame({'p1': probs[:, 1],\n",
    "                          'y_pred': probs.argmax(axis=1),\n",
    "                          'name_b': ds_to_check[deck_name]['name_b'],\n",
    "                          'text_b': ds_to_check[deck_name]['text_b']})\n",
    "        z.reset_index(drop=True, inplace=True)\n",
    "\n",
    "        recs = (z\n",
    "                .groupby(['name_b', 'text_b'])\n",
    "                .p1\n",
    "                .median()\n",
    "                .sort_values(ascending=False)\n",
    "                .reset_index())\n",
    "\n",
    "        recs.to_parquet(f\"{deck_name}{version_str}.parquet\")"
   ]
  },
  {
   "cell_type": "markdown",
   "metadata": {},
   "source": [
    "now load the `parquet` files created on the other machine"
   ]
  },
  {
   "cell_type": "code",
   "execution_count": null,
   "metadata": {
    "scrolled": false
   },
   "outputs": [],
   "source": [
    "if CHECK_DECK_RECOMMENDATIONS:\n",
    "    z = None\n",
    "\n",
    "    for deck_name in deck_names:\n",
    "        z_now = (pd.read_parquet(f\"{deck_name}.parquet\")\n",
    "                 .rename(columns={'p1': f\"p1_{deck_name}\"})\n",
    "                 .drop(columns=['text_b'])\n",
    "                 .set_index('name_b'))\n",
    "        if z is None:\n",
    "            z = z_now\n",
    "        else:\n",
    "            z = z.join(z_now[[f'p1_{deck_name}']],\n",
    "                       how='outer')\n",
    "\n",
    "    z = z.join(card_text)\n",
    "    \n",
    "    p_cols = [f\"p1_{deck_name}\" for deck_name in deck_names]\n",
    "\n",
    "    z.loc[:, 'deckcol'] = z[p_cols].idxmax(axis=1)\n",
    "\n",
    "z.head() if CHECK_DECK_RECOMMENDATIONS else None"
   ]
  },
  {
   "cell_type": "code",
   "execution_count": null,
   "metadata": {
    "scrolled": false
   },
   "outputs": [],
   "source": [
    "def foo(deck_name):\n",
    "    z_ip = (z\n",
    "            [z.deckcol == deck_name]\n",
    "            .sort_values(by=deck_name, ascending=False))\n",
    "\n",
    "    z_ip.loc[:, 'over_median'] = z_ip[deck_name] - z_ip[p_cols].min(axis=1)\n",
    "\n",
    "    z_ip.sort_values(by=deck_name, ascending=False, inplace=True)\n",
    "\n",
    "    return z_ip[z_ip.over_median > 0.2].head(10)"
   ]
  },
  {
   "cell_type": "code",
   "execution_count": null,
   "metadata": {},
   "outputs": [],
   "source": [
    "foo('p1_esper_blink') if CHECK_DECK_RECOMMENDATIONS else None"
   ]
  },
  {
   "cell_type": "code",
   "execution_count": null,
   "metadata": {},
   "outputs": [],
   "source": [
    "foo('p1_goblins') if CHECK_DECK_RECOMMENDATIONS else None"
   ]
  },
  {
   "cell_type": "code",
   "execution_count": null,
   "metadata": {},
   "outputs": [],
   "source": [
    "foo('p1_kykar') if CHECK_DECK_RECOMMENDATIONS else None"
   ]
  },
  {
   "cell_type": "code",
   "execution_count": null,
   "metadata": {},
   "outputs": [],
   "source": [
    "foo('p1_infinite_purphoros') if CHECK_DECK_RECOMMENDATIONS else None"
   ]
  },
  {
   "cell_type": "code",
   "execution_count": null,
   "metadata": {},
   "outputs": [],
   "source": [
    "foo('p1_rogues') if CHECK_DECK_RECOMMENDATIONS else None"
   ]
  },
  {
   "cell_type": "code",
   "execution_count": null,
   "metadata": {
    "scrolled": false
   },
   "outputs": [],
   "source": [
    "foo('p1_tokens') if CHECK_DECK_RECOMMENDATIONS else None"
   ]
  },
  {
   "cell_type": "code",
   "execution_count": null,
   "metadata": {},
   "outputs": [],
   "source": [
    "import collections\n",
    "\n",
    "\n",
    "def defining_cards(n=5):\n",
    "    top_n_candidates = {deck_col: set(z\n",
    "                                      .sort_values(by=f\"p1_{deck_col}\", ascending=False)\n",
    "                                      .head(n)\n",
    "                                      .index\n",
    "                                      .values)\n",
    "                        for deck_col in deck_names}\n",
    "#     return top_n_candidates\n",
    "#     return collections.Counter({c for c_set in top_n_candidates.values() for c in c_set})\n",
    "    \n",
    "    return {deck_name: (top_n_candidates[deck_name]\n",
    "                        .difference(*[top_n_candidates[dn]\n",
    "                                      for dn in deck_names\n",
    "                                      if dn != deck_name]))\n",
    "            for deck_name in deck_names}"
   ]
  },
  {
   "cell_type": "code",
   "execution_count": null,
   "metadata": {},
   "outputs": [],
   "source": [
    "defining_cards(100)"
   ]
  },
  {
   "cell_type": "markdown",
   "metadata": {},
   "source": [
    "### bertviz trial"
   ]
  },
  {
   "cell_type": "code",
   "execution_count": null,
   "metadata": {},
   "outputs": [],
   "source": [
    "# import sys\n",
    "\n",
    "# !test -d bertviz_repo && echo \"FYI: bertviz_repo directory already exists, to pull latest version uncomment this line: !rm -r bertviz_repo\"\n",
    "# # !rm -r bertviz_repo # Uncomment if you need a clean pull from repo\n",
    "# !test -d bertviz_repo || git clone https://github.com/jessevig/bertviz bertviz_repo\n",
    "\n",
    "# if not 'bertviz_repo' in sys.path:\n",
    "#     sys.path += ['bertviz_repo']"
   ]
  },
  {
   "cell_type": "code",
   "execution_count": null,
   "metadata": {},
   "outputs": [],
   "source": [
    "# from bertviz import head_view"
   ]
  },
  {
   "cell_type": "code",
   "execution_count": null,
   "metadata": {},
   "outputs": [],
   "source": [
    "# %%javascript\n",
    "# require.config({\n",
    "#   paths: {\n",
    "#       d3: '//cdnjs.cloudflare.com/ajax/libs/d3/5.7.0/d3.min',\n",
    "#     jquery: '//ajax.googleapis.com/ajax/libs/jquery/2.0.0/jquery.min',\n",
    "#   }\n",
    "# });"
   ]
  },
  {
   "cell_type": "code",
   "execution_count": null,
   "metadata": {},
   "outputs": [],
   "source": [
    "# from transformers import BertModel\n",
    "\n",
    "# att_model = BertModel.from_pretrained(model_name, output_attentions=True)\n",
    "\n",
    "# def show_head_view(tokenizer, sentence_a, sentence_b=None):\n",
    "#     inputs = tokenizer.encode_plus(sentence_a, sentence_b, return_tensors='pt', add_special_tokens=True)\n",
    "#     input_ids = inputs['input_ids']\n",
    "#     if sentence_b:\n",
    "#         token_type_ids = inputs['token_type_ids']\n",
    "#         attention = att_model(input_ids, token_type_ids=token_type_ids)[-1]\n",
    "#         sentence_b_start = token_type_ids[0].tolist().index(1)\n",
    "#     else:\n",
    "#         attention = att_model(input_ids)[-1]\n",
    "#         sentence_b_start = None\n",
    "#     input_id_list = input_ids[0].tolist() # Batch index 0\n",
    "#     tokens = tokenizer.convert_ids_to_tokens(input_id_list)    \n",
    "#     head_view(attention, tokens, sentence_b_start)"
   ]
  },
  {
   "cell_type": "code",
   "execution_count": null,
   "metadata": {},
   "outputs": [],
   "source": [
    "# sentence_a = card_text.loc['Purphoros, Bronze-Blooded', 'text']\n",
    "# sentence_b = card_text.loc['Hammer of Nazahn', 'text']\n",
    "\n",
    "# show_head_view(tokenizer, sentence_a, sentence_b)"
   ]
  },
  {
   "cell_type": "code",
   "execution_count": null,
   "metadata": {},
   "outputs": [],
   "source": [
    "# !rm -rf bertviz_repo"
   ]
  },
  {
   "cell_type": "markdown",
   "metadata": {},
   "source": [
    "# appendix\n",
    "\n",
    "the following is either hacking, didn't work, etc"
   ]
  },
  {
   "cell_type": "markdown",
   "metadata": {},
   "source": [
    "### tokenizing sentences\n",
    "\n",
    "~~we will be reusing most of the text sentences above several times; might as well tokenize them all up front once instead of tokenizing most of them 100x later~~\n",
    "\n",
    "just do shit the way the documenation suggests we should. do them on the completely built pair parquet files below"
   ]
  },
  {
   "cell_type": "code",
   "execution_count": null,
   "metadata": {},
   "outputs": [],
   "source": [
    "# from transformers import RobertaTokenizerFast\n",
    "# tokenizer = RobertaTokenizerFast.from_pretrained('roberta-base')"
   ]
  },
  {
   "cell_type": "code",
   "execution_count": null,
   "metadata": {},
   "outputs": [],
   "source": [
    "# def my_tokenizer(row, *args, **kwargs):\n",
    "#     return pd.Series(tokenizer(row.text, *args, **kwargs))"
   ]
  },
  {
   "cell_type": "code",
   "execution_count": null,
   "metadata": {},
   "outputs": [],
   "source": [
    "# (card_text.head(20)\n",
    "#  .apply(my_tokenizer, axis=1, truncation=True, padding=True))"
   ]
  },
  {
   "cell_type": "code",
   "execution_count": null,
   "metadata": {},
   "outputs": [],
   "source": [
    "# card_text = (card_text\n",
    "#              .join(card_text\n",
    "#                    .apply(my_tokenizer, axis=1, truncation=True, padding=True)))\n",
    "\n",
    "# card_text.head(10)"
   ]
  },
  {
   "cell_type": "markdown",
   "metadata": {},
   "source": [
    "### making the pair suggestions dataset\n",
    "\n",
    "okay so we have\n",
    "\n",
    "1. a train / test / val split of all cards\n",
    "1. a series of card text values (our \"sentences\")\n",
    "1. a list of `card --> deck` relationships\n",
    "\n",
    "the task now is to\n",
    "\n",
    "1. generate positive and negative cases for each card\n",
    "    + positive: `card --> deck <-- card`\n",
    "    + negative: just not that\n",
    "1. look up their text values\n",
    "1. write those values to file\n",
    "    + probably want to chunk this up somehow, maybe write 1k sentences per parquet"
   ]
  },
  {
   "cell_type": "raw",
   "metadata": {},
   "source": [
    "import numpy as np\n",
    "from tqdm.notebook import tqdm\n",
    "\n",
    "def card_sampler(cardlist, num_pairs_per_card=10, exclude_cards=None):\n",
    "    exclude_cards = exclude_cards or set()\n",
    "    np.random.seed(1337)\n",
    "    neg_card_options = np.array(list(all_cards.difference(exclude_cards)))\n",
    "    for card in tqdm(cardlist):\n",
    "        rec = card_text.loc[card]\n",
    "        commanders = edhrec_cards[edhrec_cards.name == card].commander.unique()\n",
    "        \n",
    "        # get positive card labels\n",
    "        pos_options = (edhrec_cards[edhrec_cards.commander.isin(commanders)\n",
    "                                    & (edhrec_cards.name != card)\n",
    "                                    & (~edhrec_cards.name.isin(exclude_cards))]\n",
    "                       .name.unique())\n",
    "\n",
    "        n_labels = min(num_pairs_per_card, pos_options.shape[0])\n",
    "        pos_cards = np.random.choice(pos_options,\n",
    "                                     size=n_labels,\n",
    "                                     replace=False)\n",
    "        \n",
    "        for pos_card in pos_cards:\n",
    "            try:\n",
    "                pos_text_rec = card_text.loc[pos_card]\n",
    "            except KeyError:\n",
    "                try:\n",
    "                    pos_text_rec = card_text.loc[pos_card.replace('//', '/')]\n",
    "                except KeyError:\n",
    "                    pass\n",
    "            yield (*rec, *pos_text_rec, True)\n",
    "        \n",
    "        # get negative samples\n",
    "        # start by getting 3x as many as we had before, and assume that this\n",
    "        # will net at least x that weren't options before.\n",
    "        # additionally, we are comfortable having a full set of negative labels\n",
    "        # even if we had few (or no!) positive labels\n",
    "        neg_cards = np.random.choice(neg_card_options,\n",
    "                                     size=3 * num_pairs_per_card,\n",
    "                                     replace=False)\n",
    "        \n",
    "        neg_cards = list(set(neg_cards).difference(pos_cards))[:n_labels]\n",
    "        for neg_card in neg_cards:\n",
    "            neg_text_rec = card_text.loc[neg_card]\n",
    "            yield (*rec, *neg_text_rec, False)"
   ]
  },
  {
   "cell_type": "raw",
   "metadata": {},
   "source": [
    "!rm -r ./data"
   ]
  },
  {
   "cell_type": "raw",
   "metadata": {},
   "source": [
    "# import os\n",
    "\n",
    "# for split_type in ['train', 'test', 'val']:\n",
    "#     for label_type in ['pos', 'neg']:\n",
    "#         os.makedirs(os.path.join('.', 'data', split_type, label_type), exist_ok=True)"
   ]
  },
  {
   "cell_type": "raw",
   "metadata": {},
   "source": [
    "import os\n",
    "\n",
    "for split_type in ['train', 'test', 'val']:\n",
    "    os.makedirs(os.path.join('.', 'data', split_type), exist_ok=True)"
   ]
  },
  {
   "cell_type": "raw",
   "metadata": {},
   "source": [
    "!tree ."
   ]
  },
  {
   "cell_type": "raw",
   "metadata": {},
   "source": [
    "import itertools\n",
    "\n",
    "def grouper(iterable, n, fillvalue=None):\n",
    "    \"Collect data into fixed-length chunks or blocks\"\n",
    "    # grouper('ABCDEFG', 3, 'x') --> ABC DEF Gxx\"\n",
    "    args = [iter(iterable)] * n\n",
    "    return itertools.zip_longest(*args, fillvalue=fillvalue)\n",
    "\n",
    "# for g in grouper(range(20), 3):\n",
    "#     print(type(g))\n",
    "#     print(g)"
   ]
  },
  {
   "cell_type": "raw",
   "metadata": {},
   "source": [
    "# for g in grouper(card_sampler(cards_val[:3], 10), 4):\n",
    "#     for rec in g:\n",
    "#         print(rec)\n",
    "#     print()\n",
    "#     print()"
   ]
  },
  {
   "cell_type": "raw",
   "metadata": {},
   "source": [
    "import pandas as pd\n",
    "\n",
    "NUM_PAIRS_PER_CARD = 100\n",
    "PARQUET_CHUNK_SIZE = 100_000\n",
    "\n",
    "for (split_type, cardlist, exclude_cardlist) in [['val', cards_val, None],\n",
    "                                                 ['test', cards_test, None],\n",
    "                                                 ['train', cards_train, set(cards_val).union(cards_test)], ]:\n",
    "    root = os.path.join('.', split_type)\n",
    "    sampler = card_sampler(cardlist, NUM_PAIRS_PER_CARD, exclude_cardlist)\n",
    "    for (i, grp) in enumerate(tqdm(grouper(sampler, PARQUET_CHUNK_SIZE))):\n",
    "        (pd.DataFrame(grp, columns=['text_a', 'text_b', 'label'])\n",
    "         .dropna()\n",
    "         .to_parquet(os.path.join('.', 'data', split_type, f'part-{i:0>5}.parquet')))"
   ]
  },
  {
   "cell_type": "raw",
   "metadata": {},
   "source": [
    "!tree ."
   ]
  },
  {
   "cell_type": "markdown",
   "metadata": {},
   "source": [
    "### build the pytorch datasets\n",
    "\n",
    "basing this in large part off of [this doc page](https://huggingface.co/transformers/custom_datasets.html#nlplib)"
   ]
  },
  {
   "cell_type": "raw",
   "metadata": {},
   "source": [
    "import pandas as pd\n",
    "\n",
    "train = pd.read_parquet('./data/train')\n",
    "test = pd.read_parquet('./data/test')\n",
    "val = pd.read_parquet('./data/val')"
   ]
  },
  {
   "cell_type": "markdown",
   "metadata": {},
   "source": [
    "#### do the encodings"
   ]
  },
  {
   "cell_type": "raw",
   "metadata": {},
   "source": [
    "from transformers import RobertaTokenizerFast\n",
    "tokenizer = RobertaTokenizerFast.from_pretrained('roberta-base')"
   ]
  },
  {
   "cell_type": "raw",
   "metadata": {},
   "source": [
    "import pickle"
   ]
  },
  {
   "cell_type": "raw",
   "metadata": {},
   "source": [
    "test_encodings = tokenizer(test.text_a.values.tolist(),\n",
    "                           test.text_b.values.tolist(),\n",
    "                           truncation=True,\n",
    "                           padding=True)\n",
    "\n",
    "with open('test_encodings.pkl', 'wb') as fp:\n",
    "    pickle.dump(test_encodings, fp)"
   ]
  },
  {
   "cell_type": "raw",
   "metadata": {},
   "source": [
    "with open('test_encodings.pkl', 'rb') as fp:\n",
    "    test_encodings = pickle.load(fp)"
   ]
  },
  {
   "cell_type": "raw",
   "metadata": {},
   "source": [
    "val_encodings = tokenizer(val.text_a.values.tolist(),\n",
    "                          val.text_b.values.tolist(),\n",
    "                          truncation=True,\n",
    "                          padding=True)\n",
    "\n",
    "with open('val_encodings.pkl', 'wb') as fp:\n",
    "    pickle.dump(test_encodings, fp)"
   ]
  },
  {
   "cell_type": "raw",
   "metadata": {},
   "source": [
    "with open('val_encodings.pkl', 'rb') as fp:\n",
    "    val_encodings = pickle.load(fp)"
   ]
  },
  {
   "cell_type": "raw",
   "metadata": {},
   "source": [
    "[len(_) for _ in val_encodings['input_ids'][:10]]"
   ]
  },
  {
   "cell_type": "markdown",
   "metadata": {},
   "source": [
    "so, the below killed the kernel... :("
   ]
  },
  {
   "cell_type": "raw",
   "metadata": {},
   "source": [
    "%%time\n",
    "train_encodings = tokenizer(train.text_a.values.tolist(),\n",
    "                            train.text_b.values.tolist(),\n",
    "                            truncation=True,\n",
    "                            padding=True)"
   ]
  },
  {
   "cell_type": "raw",
   "metadata": {},
   "source": [
    "%%time\n",
    "with open('train_encodings.pkl', 'wb') as fp:\n",
    "    pickle.dump(train_encodings, fp)"
   ]
  },
  {
   "cell_type": "raw",
   "metadata": {},
   "source": [
    "%%time\n",
    "with open('train_encodings.pkl', 'rb') as fp:\n",
    "    train_encodings = pickle.load(fp)"
   ]
  },
  {
   "cell_type": "raw",
   "metadata": {},
   "source": [
    "idx = 0\n",
    "rec = train.iloc[idx]\n"
   ]
  },
  {
   "cell_type": "raw",
   "metadata": {},
   "source": [
    "import torch\n",
    "\n",
    "class EdhrecDataset(torch.utils.data.Dataset):\n",
    "    def __init__(self, df):\n",
    "        self.df = df\n",
    "\n",
    "    def __getitem__(self, idx):\n",
    "        item = {key: torch.tensor(val[idx]) for key, val in self.encodings.items()}\n",
    "        item['labels'] = torch.tensor(self.labels[idx])\n",
    "        return item\n",
    "\n",
    "    def __len__(self):\n",
    "        return len(self.labels)\n",
    "\n",
    "train_dataset = IMDbDataset(train_encodings, train_labels)\n",
    "val_dataset = IMDbDataset(val_encodings, val_labels)\n",
    "test_dataset = IMDbDataset(test_encodings, test_labels)"
   ]
  },
  {
   "cell_type": "code",
   "execution_count": null,
   "metadata": {},
   "outputs": [],
   "source": []
  }
 ],
 "metadata": {
  "kernelspec": {
   "display_name": "Python 3",
   "language": "python",
   "name": "python3"
  },
  "language_info": {
   "codemirror_mode": {
    "name": "ipython",
    "version": 3
   },
   "file_extension": ".py",
   "mimetype": "text/x-python",
   "name": "python",
   "nbconvert_exporter": "python",
   "pygments_lexer": "ipython3",
   "version": "3.7.3"
  },
  "toc": {
   "base_numbering": 1,
   "nav_menu": {},
   "number_sections": true,
   "sideBar": true,
   "skip_h1_title": false,
   "title_cell": "Table of Contents",
   "title_sidebar": "Contents",
   "toc_cell": false,
   "toc_position": {},
   "toc_section_display": true,
   "toc_window_display": false
  }
 },
 "nbformat": 4,
 "nbformat_minor": 4
}
